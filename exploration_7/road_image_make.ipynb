{
 "cells": [
  {
   "cell_type": "markdown",
   "id": "5d689527",
   "metadata": {},
   "source": [
    "# 도로 이미지 만들기\n",
    "---\n",
    "## exploration_7"
   ]
  },
  {
   "cell_type": "code",
   "execution_count": null,
   "id": "797b27b0",
   "metadata": {},
   "outputs": [],
   "source": [
    "## 목표\n",
    "---\n",
    "1. pix2pix모델 학습윌 위한 데이터셋 구축\n",
    "    1. 데이터 분석\n",
    "    2. 한가지 이상의 augmentation을 포함한 데이터셋 구축\n",
    "2. pix2pix모델 구현\n",
    "    1. U-Net generator, discriminator 모델 구현\n",
    "    2. train_step의 output을 확인하고 개선\n",
    "3. 학습 과정 및 테스트\n",
    "    1. 10 epoch 이상의 학습을 진행\n",
    "    2. 과정 및 결과 시각화"
   ]
  }
 ],
 "metadata": {
  "kernelspec": {
   "display_name": "Python 3 (ipykernel)",
   "language": "python",
   "name": "python3"
  },
  "language_info": {
   "codemirror_mode": {
    "name": "ipython",
    "version": 3
   },
   "file_extension": ".py",
   "mimetype": "text/x-python",
   "name": "python",
   "nbconvert_exporter": "python",
   "pygments_lexer": "ipython3",
   "version": "3.9.7"
  }
 },
 "nbformat": 4,
 "nbformat_minor": 5
}
