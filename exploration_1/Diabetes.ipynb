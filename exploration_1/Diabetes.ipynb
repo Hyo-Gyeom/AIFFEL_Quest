{
 "cells": [
  {
   "cell_type": "code",
   "execution_count": 1,
   "id": "fcdb2a59",
   "metadata": {},
   "outputs": [],
   "source": [
    "from sklearn.datasets import load_diabetes\n",
    "from sklearn.model_selection import train_test_split\n",
    "import numpy as np\n",
    "\n",
    "diabetes = load_diabetes()\n",
    "\n",
    "df_x = diabetes.data\n",
    "df_y = diabetes.target\n",
    "\n",
    "f = len(df_x[1])"
   ]
  },
  {
   "cell_type": "code",
   "execution_count": 2,
   "id": "830e131c",
   "metadata": {},
   "outputs": [],
   "source": [
    "X_train, X_test, y_train, y_test = train_test_split(df_x, df_y, test_size=0.2, random_state=42)"
   ]
  },
  {
   "cell_type": "code",
   "execution_count": 3,
   "id": "db85a980",
   "metadata": {},
   "outputs": [],
   "source": [
    "W = np.random.rand(f)\n",
    "b = np.random.rand()\n",
    "\n",
    "def model(x_data, weight, bias):\n",
    "    predictions = 0\n",
    "    for i in range(f):\n",
    "        predictions += x_data[:, i] * weight[i]\n",
    "    predictions += bias\n",
    "    return predictions"
   ]
  },
  {
   "cell_type": "code",
   "execution_count": 4,
   "id": "df094333",
   "metadata": {},
   "outputs": [],
   "source": [
    "def loss(x_data, weight, bias, y_data):\n",
    "    predictions = model(x_data, weight, bias)\n",
    "    return ((predictions - y_data) ** 2).mean()"
   ]
  },
  {
   "cell_type": "code",
   "execution_count": 5,
   "id": "a656dff9",
   "metadata": {},
   "outputs": [],
   "source": [
    "def gradient(x_data, weight, bias, y_data):\n",
    "    y_pred = model(x_data, weight, bias)\n",
    "    dW = (1 / len(y_data)) * 2 * x_data.T.dot(y_pred - y_data)\n",
    "    db = 2 * (y_pred - y_data).mean()\n",
    "    return dW, db"
   ]
  },
  {
   "cell_type": "code",
   "execution_count": 6,
   "id": "f6b17cc8",
   "metadata": {},
   "outputs": [],
   "source": [
    "LEARNING_RATE = 0.1"
   ]
  },
  {
   "cell_type": "code",
   "execution_count": 7,
   "id": "36192c64",
   "metadata": {},
   "outputs": [
    {
     "name": "stdout",
     "output_type": "stream",
     "text": [
      "Iteration 1000 : Loss 3443.1598\n",
      "Iteration 2000 : Loss 3094.0198\n",
      "Iteration 3000 : Loss 2978.9944\n",
      "Iteration 4000 : Loss 2933.7224\n",
      "Iteration 5000 : Loss 2914.6893\n",
      "Iteration 6000 : Loss 2906.1688\n",
      "Iteration 7000 : Loss 2902.0803\n",
      "Iteration 8000 : Loss 2899.9594\n",
      "Iteration 9000 : Loss 2898.7581\n",
      "Iteration 10000 : Loss 2898.0082\n"
     ]
    }
   ],
   "source": [
    "losses = []\n",
    "epoch = 10000\n",
    "for i in range(1, epoch + 1):\n",
    "    dW, db = gradient(X_train, W, b, y_train)\n",
    "    W -= LEARNING_RATE * dW\n",
    "    b -= LEARNING_RATE * db\n",
    "    L = loss(X_train, W, b, y_train)\n",
    "    losses.append(L)\n",
    "    if i % 1000 == 0:\n",
    "        print('Iteration %d : Loss %0.4f' % (i, L))"
   ]
  },
  {
   "cell_type": "code",
   "execution_count": 8,
   "id": "232855f8",
   "metadata": {},
   "outputs": [
    {
     "data": {
      "text/plain": [
       "2880.2557710414667"
      ]
     },
     "execution_count": 8,
     "metadata": {},
     "output_type": "execute_result"
    }
   ],
   "source": [
    "prediction = model(X_test, W, b)\n",
    "mse = loss(X_test, W, b, y_test)\n",
    "mse"
   ]
  },
  {
   "cell_type": "code",
   "execution_count": 9,
   "id": "ccb558d2",
   "metadata": {},
   "outputs": [
    {
     "data": {
      "image/png": "[encoded data removed]",
      "text/plain": [
       "<Figure size 432x288 with 1 Axes>"
      ]
     },
     "metadata": {
      "needs_background": "light"
     },
     "output_type": "display_data"
    }
   ],
   "source": [
    "import matplotlib.pyplot as plt\n",
    "\n",
    "plt.scatter(X_test[:, 0], y_test)\n",
    "plt.scatter(X_test[:, 0], prediction)\n",
    "plt.show()"
   ]
  },
  {
   "cell_type": "code",
   "execution_count": null,
   "id": "6e032dc1",
   "metadata": {},
   "outputs": [],
   "source": []
  }
 ],
 "metadata": {
  "kernelspec": {
   "display_name": "Python 3 (ipykernel)",
   "language": "python",
   "name": "python3"
  },
  "language_info": {
   "codemirror_mode": {
    "name": "ipython",
    "version": 3
   },
   "file_extension": ".py",
   "mimetype": "text/x-python",
   "name": "python",
   "nbconvert_exporter": "python",
   "pygments_lexer": "ipython3",
   "version": "3.9.7"
  }
 },
 "nbformat": 4,
 "nbformat_minor": 5
}
