{
 "cells": [
  {
   "cell_type": "code",
   "execution_count": 1,
   "id": "f4a2f3bc",
   "metadata": {},
   "outputs": [],
   "source": [
    "from sklearn.datasets import load_diabetes\n",
    "from sklearn.model_selection import train_test_split\n",
    "import numpy as np\n",
    "\n",
    "diabetes = load_diabetes()\n",
    "\n",
    "df_x = diabetes.data\n",
    "df_y = diabetes.target\n",
    "\n",
    "f = len(df_x[1])"
   ]
  },
  {
   "cell_type": "code",
   "execution_count": 2,
   "id": "c3f1d98d",
   "metadata": {},
   "outputs": [],
   "source": [
    "X_train, X_test, y_train, y_test = train_test_split(df_x, df_y, test_size=0.2, random_state=42)"
   ]
  },
  {
   "cell_type": "code",
   "execution_count": 3,
   "id": "8cef3c04",
   "metadata": {},
   "outputs": [],
   "source": [
    "W = np.random.rand(f)\n",
    "b = np.random.rand()\n",
    "\n",
    "def model(x_data, weight, bias):\n",
    "    predictions = 0\n",
    "    for i in range(f):\n",
    "        predictions += x_data[:, i] * weight[i]\n",
    "    predictions += bias\n",
    "    return predictions"
   ]
  },
  {
   "cell_type": "code",
   "execution_count": 4,
   "id": "bcc4c1c3",
   "metadata": {},
   "outputs": [],
   "source": [
    "def loss(x_data, weight, bias, y_data):\n",
    "    predictions = model(x_data, weight, bias)\n",
    "    return ((predictions - y_data) ** 2).mean()"
   ]
  },
  {
   "cell_type": "code",
   "execution_count": 5,
   "id": "535852ba",
   "metadata": {},
   "outputs": [],
   "source": [
    "def gradient(x_data, weight, bias, y_data):\n",
    "    y_pred = model(x_data, weight, bias)\n",
    "    dW = (1 / len(y_data)) * 2 * x_data.T.dot(y_pred - y_data)\n",
    "    db = 2 * (y_pred - y_data).mean()\n",
    "    return dW, db"
   ]
  },
  {
   "cell_type": "code",
   "execution_count": 16,
   "id": "7f30fefc",
   "metadata": {},
   "outputs": [],
   "source": [
    "LEARNING_RATE = 0.1"
   ]
  },
  {
   "cell_type": "code",
   "execution_count": 17,
   "id": "f7fb8181",
   "metadata": {},
   "outputs": [
    {
     "name": "stdout",
     "output_type": "stream",
     "text": [
      "Iteration 1000 : Loss 2972.4170\n",
      "Iteration 2000 : Loss 2930.9925\n",
      "Iteration 3000 : Loss 2913.4761\n",
      "Iteration 4000 : Loss 2905.5857\n",
      "Iteration 5000 : Loss 2901.7733\n",
      "Iteration 6000 : Loss 2899.7799\n",
      "Iteration 7000 : Loss 2898.6405\n",
      "Iteration 8000 : Loss 2897.9223\n",
      "Iteration 9000 : Loss 2897.4211\n",
      "Iteration 10000 : Loss 2897.0363\n"
     ]
    }
   ],
   "source": [
    "losses = []\n",
    "epoch = 10000\n",
    "for i in range(1, epoch + 1):\n",
    "    dW, db = gradient(X_train, W, b, y_train)\n",
    "    W -= LEARNING_RATE * dW\n",
    "    b -= LEARNING_RATE * db\n",
    "    L = loss(X_train, W, b, y_train)\n",
    "    losses.append(L)\n",
    "    if i % 1000 == 0:\n",
    "        print('Iteration %d : Loss %0.4f' % (i, L))"
   ]
  },
  {
   "cell_type": "code",
   "execution_count": 12,
   "id": "d0a79539",
   "metadata": {},
   "outputs": [
    {
     "data": {
      "text/plain": [
       "3054.000522934211"
      ]
     },
     "execution_count": 12,
     "metadata": {},
     "output_type": "execute_result"
    }
   ],
   "source": [
    "prediction = model(X_test, W, b)\n",
    "mse = loss(X_test, W, b, y_test)\n",
    "mse"
   ]
  },
  {
   "cell_type": "code",
   "execution_count": 13,
   "id": "38e20b71",
   "metadata": {},
   "outputs": [
    {
     "data": {
      "image/png": "[encoded data removed]",
      "text/plain": [
       "<Figure size 432x288 with 1 Axes>"
      ]
     },
     "metadata": {
      "needs_background": "light"
     },
     "output_type": "display_data"
    }
   ],
   "source": [
    "import matplotlib.pyplot as plt\n",
    "\n",
    "plt.scatter(X_test[:, 0], y_test)\n",
    "plt.scatter(X_test[:, 0], prediction)\n",
    "plt.show()"
   ]
  },
  {
   "cell_type": "code",
   "execution_count": null,
   "id": "35907815",
   "metadata": {},
   "outputs": [],
   "source": []
  }
 ],
 "metadata": {
  "kernelspec": {
   "display_name": "Python 3 (ipykernel)",
   "language": "python",
   "name": "python3"
  },
  "language_info": {
   "codemirror_mode": {
    "name": "ipython",
    "version": 3
   },
   "file_extension": ".py",
   "mimetype": "text/x-python",
   "name": "python",
   "nbconvert_exporter": "python",
   "pygments_lexer": "ipython3",
   "version": "3.9.7"
  }
 },
 "nbformat": 4,
 "nbformat_minor": 5
}
