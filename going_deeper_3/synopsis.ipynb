{
 "cells": [
  {
   "cell_type": "code",
   "execution_count": 1,
   "id": "affefabe",
   "metadata": {},
   "outputs": [],
   "source": [
    "from konlpy.tag import Okt\n",
    "from gensim.models import Word2Vec\n",
    "from sklearn.feature_extraction.text import TfidfVectorizer\n",
    "\n",
    "import numpy as np\n",
    "import os"
   ]
  },
  {
   "cell_type": "markdown",
   "id": "6ebdb38f",
   "metadata": {},
   "source": [
    "# 명사 추출"
   ]
  },
  {
   "cell_type": "code",
   "execution_count": 2,
   "id": "cff7a639",
   "metadata": {},
   "outputs": [
    {
     "name": "stdout",
     "output_type": "stream",
     "text": [
      "23\n",
      "23\n"
     ]
    }
   ],
   "source": [
    "genre_txt = ['synopsis_art.txt', 'synopsis_gen.txt', 'synopsis_SF.txt', 'synopsis_family.txt', 'synopsis_show.txt', \n",
    "             'synopsis_horror.txt', 'synopsis_etc.txt', 'synopsis_documentary.txt', 'synopsis_drama.txt', 'synopsis_romance.txt', \n",
    "             'synopsis_musical.txt', 'synopsis_mystery.txt', 'synopsis_crime.txt', 'synopsis_historical.txt', \n",
    "             'synopsis_western.txt', 'synopsis_adult.txt', 'synopsis_thriller.txt', 'synopsis_animation.txt', 'synopsis_action.txt', \n",
    "             'synopsis_adventure.txt', 'synopsis_war.txt', 'synopsis_comedy.txt', 'synopsis_fantasy.txt']\n",
    "genre_name = ['예술', '상업', 'SF', '가족', '공연', '공포(호러)', '기타', '다큐멘터리', '드라마', '멜로로맨스', '뮤지컬', '미스터리', '범죄', '사극', '서부극(웨스턴)',\n",
    "         '성인물(에로)', '스릴러', '애니메이션', '액션', '어드벤처', '전쟁', '코미디', '판타지']\n",
    "print(len(genre_txt))\n",
    "print(len(genre_name))"
   ]
  },
  {
   "cell_type": "code",
   "execution_count": null,
   "id": "a1875872",
   "metadata": {},
   "outputs": [],
   "source": [
    "okt = Okt()\n",
    "tokenized_dict = dict()\n",
    "for idx in range(len(genre_txt)):\n",
    "    temp = list()\n",
    "    with open(os.getenv('HOME') + f'/aiffel/weat/{genre_txt[idx]}', 'r') as file:\n",
    "        while True:\n",
    "            line = file.readline()\n",
    "            if not line: break\n",
    "            words = okt.pos(line, stem=True, norm=True)\n",
    "            res = []\n",
    "            for w in words:\n",
    "                if w[1] in [\"Noun\"]:      # \"Adjective\", \"Verb\" 등을 포함할 수도 있습니다.\n",
    "                    res.append(w[0])    # 명사일 때만 tokenized 에 저장하게 됩니다. \n",
    "            temp.append(res)\n",
    "    tokenized_dict[genre_name[idx]] = temp"
   ]
  },
  {
   "cell_type": "code",
   "execution_count": null,
   "id": "be9fdaf0",
   "metadata": {},
   "outputs": [],
   "source": [
    "tokenized = sum(list(tokenized_dict.values()), [])\n",
    "tokenized[0][:10]"
   ]
  },
  {
   "cell_type": "markdown",
   "id": "bbd55746",
   "metadata": {},
   "source": [
    "# 임베딩 모델"
   ]
  },
  {
   "cell_type": "code",
   "execution_count": null,
   "id": "5b81316a",
   "metadata": {},
   "outputs": [],
   "source": [
    "# 모델 생성\n",
    "model = Word2Vec(tokenized, vector_size=100, window=5, min_count=3, sg=0)"
   ]
  },
  {
   "cell_type": "code",
   "execution_count": null,
   "id": "c61b4d56",
   "metadata": {},
   "outputs": [],
   "source": [
    "model.wv.most_similar(positive=['상업'])"
   ]
  },
  {
   "cell_type": "code",
   "execution_count": null,
   "id": "1c92c9b6",
   "metadata": {},
   "outputs": [],
   "source": [
    "model.wv.most_similar(positive=['공포'])"
   ]
  },
  {
   "cell_type": "code",
   "execution_count": null,
   "id": "ccc09a1c",
   "metadata": {},
   "outputs": [],
   "source": [
    "model.wv.most_similar(positive=['예술'])"
   ]
  },
  {
   "cell_type": "markdown",
   "id": "e83f3c99",
   "metadata": {},
   "source": [
    "# 타겟과 속성"
   ]
  },
  {
   "cell_type": "code",
   "execution_count": null,
   "id": "1d1418d1",
   "metadata": {},
   "outputs": [],
   "source": [
    "# 장르별 리스트\n",
    "genre = [' '.join(sum(v, [])) for v in tokenized_dict.values()]\n",
    "genre[0]"
   ]
  },
  {
   "cell_type": "code",
   "execution_count": null,
   "id": "8e278f66",
   "metadata": {},
   "outputs": [],
   "source": [
    "len(genre)"
   ]
  },
  {
   "cell_type": "code",
   "execution_count": null,
   "id": "bb2269eb",
   "metadata": {},
   "outputs": [],
   "source": [
    "vectorizer = TfidfVectorizer()\n",
    "X = vectorizer.fit_transform(genre)"
   ]
  },
  {
   "cell_type": "code",
   "execution_count": null,
   "id": "be3380c3",
   "metadata": {},
   "outputs": [],
   "source": [
    "X.shape"
   ]
  },
  {
   "cell_type": "code",
   "execution_count": null,
   "id": "04c0583d",
   "metadata": {},
   "outputs": [],
   "source": [
    "print(vectorizer.vocabulary_['영화'])\n",
    "print(vectorizer.get_feature_names()[24952])"
   ]
  },
  {
   "cell_type": "code",
   "execution_count": null,
   "id": "46543b0f",
   "metadata": {},
   "outputs": [],
   "source": [
    "m = [X[i].tocoo() for i in range(X.shape[0])]\n",
    "\n",
    "w = [[[i, j] for i, j in zip(mm.col, mm.data)] for mm in m]\n",
    "\n",
    "for i in range(len(w)):\n",
    "    w[i].sort(key=lambda x: x[1], reverse=True)\n",
    "attributes = []\n",
    "for i in range(len(w)):\n",
    "    print(genre_name[i], end=': ')\n",
    "    attr = []\n",
    "    j = 0\n",
    "    while (len(attr) < 15):\n",
    "        if vectorizer.get_feature_names()[w[i][j][0]] in model.wv:\n",
    "            attr.append(vectorizer.get_feature_names()[w[i][j][0]])\n",
    "            print(vectorizer.get_feature_names()[w[i][j][0]], end=', ')\n",
    "        j += 1\n",
    "    attributes.append(attr)\n",
    "    print()"
   ]
  },
  {
   "cell_type": "markdown",
   "id": "de93dd04",
   "metadata": {},
   "source": [
    "#  WEAT score 계산 및 시각화"
   ]
  },
  {
   "cell_type": "code",
   "execution_count": null,
   "id": "23377e10",
   "metadata": {},
   "outputs": [],
   "source": [
    "matrix = [[0 for _ in range(len(genre_name))] for _ in range(len(genre_name))]"
   ]
  },
  {
   "cell_type": "code",
   "execution_count": null,
   "id": "cc2d4b86",
   "metadata": {},
   "outputs": [],
   "source": [
    "def cos_sim(i, j):\n",
    "    return dot(i, j.T)/(norm(i)*norm(j))\n",
    "\n",
    "def s(w, A, B):\n",
    "    c_a = cos_sim(w, A)\n",
    "    c_b = cos_sim(w, B)\n",
    "    mean_A = np.mean(c_a, axis=-1)\n",
    "    mean_B = np.mean(c_b, axis=-1)\n",
    "    return mean_A - mean_B #, c_a, c_b\n",
    "\n",
    "def weat_score(X, Y, A, B):\n",
    "    \n",
    "    s_X = s(X, A, B)\n",
    "    s_Y = s(Y, A, B)\n",
    "\n",
    "    mean_X = np.mean(s_X)\n",
    "    mean_Y = np.mean(s_Y)\n",
    "    \n",
    "    std_dev = np.std(np.concatenate([s_X, s_Y], axis=0))\n",
    "    \n",
    "    return  (mean_X-mean_Y) / std_dev"
   ]
  },
  {
   "cell_type": "code",
   "execution_count": null,
   "id": "4b4fbe20",
   "metadata": {},
   "outputs": [],
   "source": [
    "X = np.array([model.wv[word] for word in attributes[0]])\n",
    "Y = np.array([model.wv[word] for word in attributes[1]])\n",
    "\n",
    "for i in range(len(genre_name)-1):\n",
    "    # i + 1로 이미 계산된 값은 하지 않음 - 좌하단이 0\n",
    "    for j in range(i + 1, len(genre_name)):\n",
    "        A = np.array([model.wv[word] for word in attributes[i]])\n",
    "        B = np.array([model.wv[word] for word in attributes[j]])\n",
    "        matrix[i][j] = weat_score(X, Y, A, B)"
   ]
  },
  {
   "cell_type": "code",
   "execution_count": null,
   "id": "6a4e3d23",
   "metadata": {},
   "outputs": [],
   "source": [
    "for i in range(len(genre_name)-1):\n",
    "    for j in range(i+1, len(genre_name)):\n",
    "        print(genre_name[i], genre_name[j],matrix[i][j])"
   ]
  },
  {
   "cell_type": "code",
   "execution_count": null,
   "id": "93455a8c",
   "metadata": {},
   "outputs": [],
   "source": [
    "import seaborn as sns\n",
    "import matplotlib.pyplot as plt\n",
    "\n",
    "np.random.seed(0)\n",
    "\n",
    "# 한글 지원 폰트\n",
    "sns.set(font='NanumGothic')\n",
    "\n",
    "# 마이너스 부호 \n",
    "\n",
    "plt.figure(figsize = (15,15))\n",
    "plt.rcParams['axes.unicode_minus'] = False\n",
    "\n",
    "ax = sns.heatmap(matrix, xticklabels=genre_name, yticklabels=genre_name, annot=True,  cmap='RdYlGn_r')\n",
    "ax"
   ]
  },
  {
   "cell_type": "markdown",
   "id": "0d979d8f",
   "metadata": {},
   "source": [
    "공포, 예술, sf장르가 대부분의 것들과 극명하게 갈리는 형태를 보임"
   ]
  }
 ],
 "metadata": {
  "kernelspec": {
   "display_name": "Python 3 (ipykernel)",
   "language": "python",
   "name": "python3"
  },
  "language_info": {
   "codemirror_mode": {
    "name": "ipython",
    "version": 3
   },
   "file_extension": ".py",
   "mimetype": "text/x-python",
   "name": "python",
   "nbconvert_exporter": "python",
   "pygments_lexer": "ipython3",
   "version": "3.9.7"
  }
 },
 "nbformat": 4,
 "nbformat_minor": 5
}
