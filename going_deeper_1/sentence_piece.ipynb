{
 "cells": [
  {
   "cell_type": "code",
   "execution_count": 1,
   "id": "7e855670",
   "metadata": {},
   "outputs": [],
   "source": [
    "import warnings\n",
    "warnings.filterwarnings('ignore')\n",
    "\n",
    "import sentencepiece as spm\n",
    "import os\n",
    "\n",
    "import pandas as pd\n",
    "import numpy as np\n",
    "import matplotlib.pyplot as plt\n",
    "import tensorflow as tf\n",
    "from tensorflow.keras.callbacks import EarlyStopping"
   ]
  },
  {
   "cell_type": "code",
   "execution_count": 2,
   "id": "a8a76f3e",
   "metadata": {
    "scrolled": true
   },
   "outputs": [
    {
     "name": "stdout",
     "output_type": "stream",
     "text": [
      "200000 150000 50000\n",
      "191073\n"
     ]
    },
    {
     "data": {
      "text/html": [
       "<div>\n",
       "<style scoped>\n",
       "    .dataframe tbody tr th:only-of-type {\n",
       "        vertical-align: middle;\n",
       "    }\n",
       "\n",
       "    .dataframe tbody tr th {\n",
       "        vertical-align: top;\n",
       "    }\n",
       "\n",
       "    .dataframe thead th {\n",
       "        text-align: right;\n",
       "    }\n",
       "</style>\n",
       "<table border=\"1\" class=\"dataframe\">\n",
       "  <thead>\n",
       "    <tr style=\"text-align: right;\">\n",
       "      <th></th>\n",
       "      <th>id</th>\n",
       "      <th>document</th>\n",
       "      <th>label</th>\n",
       "    </tr>\n",
       "  </thead>\n",
       "  <tbody>\n",
       "    <tr>\n",
       "      <th>0</th>\n",
       "      <td>9976970</td>\n",
       "      <td>아 더빙 진짜 짜증나네요 목소리</td>\n",
       "      <td>0</td>\n",
       "    </tr>\n",
       "    <tr>\n",
       "      <th>1</th>\n",
       "      <td>3819312</td>\n",
       "      <td>흠포스터보고 초딩영화줄오버연기조차 가볍지 않구나</td>\n",
       "      <td>1</td>\n",
       "    </tr>\n",
       "    <tr>\n",
       "      <th>2</th>\n",
       "      <td>10265843</td>\n",
       "      <td>너무재밓었다그래서보는것을추천한다</td>\n",
       "      <td>0</td>\n",
       "    </tr>\n",
       "    <tr>\n",
       "      <th>3</th>\n",
       "      <td>9045019</td>\n",
       "      <td>교도소 이야기구먼 솔직히 재미는 없다평점 조정</td>\n",
       "      <td>0</td>\n",
       "    </tr>\n",
       "    <tr>\n",
       "      <th>4</th>\n",
       "      <td>6483659</td>\n",
       "      <td>사이몬페그의 익살스런 연기가 돋보였던 영화스파이더맨에서 늙어보이기만 했던 커스틴 던...</td>\n",
       "      <td>1</td>\n",
       "    </tr>\n",
       "  </tbody>\n",
       "</table>\n",
       "</div>"
      ],
      "text/plain": [
       "         id                                           document  label\n",
       "0   9976970                                  아 더빙 진짜 짜증나네요 목소리      0\n",
       "1   3819312                         흠포스터보고 초딩영화줄오버연기조차 가볍지 않구나      1\n",
       "2  10265843                                  너무재밓었다그래서보는것을추천한다      0\n",
       "3   9045019                          교도소 이야기구먼 솔직히 재미는 없다평점 조정      0\n",
       "4   6483659  사이몬페그의 익살스런 연기가 돋보였던 영화스파이더맨에서 늙어보이기만 했던 커스틴 던...      1"
      ]
     },
     "execution_count": 2,
     "metadata": {},
     "output_type": "execute_result"
    }
   ],
   "source": [
    "train_data = pd.read_table('data/ratings_train.txt')\n",
    "test_data = pd.read_table('data/ratings_test.txt')\n",
    "train_len = len(train_data)\n",
    "total_data = pd.concat([train_data, test_data], axis=0)\n",
    "\n",
    "# 한글과 공백을 제외한 나머지 삭제\n",
    "total_data['document'] = total_data['document'].str.replace(\"[^ㄱ-ㅎㅏ-ㅣ가-힣 ]\", \"\")\n",
    "print(len(total_data), train_len, len(test_data))\n",
    "\n",
    "# 내용이 중복되거나 NaN값이 있는 열 삭제\n",
    "total_data.drop_duplicates(subset=['document'], inplace=True)\n",
    "total_data['document'] = total_data['document'].replace('', np.nan)\n",
    "total_data = total_data.dropna(how = 'any')\n",
    "print(len(total_data))\n",
    "\n",
    "total_data.head()"
   ]
  },
  {
   "cell_type": "code",
   "execution_count": 3,
   "id": "77a640cb",
   "metadata": {
    "scrolled": true
   },
   "outputs": [
    {
     "name": "stdout",
     "output_type": "stream",
     "text": [
      "문장의 최단 길이: 1\n",
      "문장의 최장 길이: 140\n",
      "문장의 평균 길이: 33\n"
     ]
    },
    {
     "data": {
      "image/png": "[encoded data removed]",
      "text/plain": [
       "<Figure size 432x288 with 1 Axes>"
      ]
     },
     "metadata": {
      "needs_background": "light"
     },
     "output_type": "display_data"
    }
   ],
   "source": [
    "# 데이터 분석\n",
    "\n",
    "min_len = 999\n",
    "max_len = 0\n",
    "sum_len = 0\n",
    "\n",
    "raw = total_data['document']\n",
    "\n",
    "for sen in raw:\n",
    "    length = len(sen)\n",
    "    if min_len > length: min_len = length\n",
    "    if max_len < length: max_len = length\n",
    "    sum_len += length\n",
    "\n",
    "print(\"문장의 최단 길이:\", min_len)\n",
    "print(\"문장의 최장 길이:\", max_len)\n",
    "print(\"문장의 평균 길이:\", sum_len // len(raw))\n",
    "\n",
    "sentence_length = np.zeros((max_len), dtype=int)\n",
    "\n",
    "for sen in raw:\n",
    "    sentence_length[len(sen)-1] += 1\n",
    "\n",
    "plt.bar(range(max_len), sentence_length, width=1.0)\n",
    "plt.title(\"Sentence Length Distribution\")\n",
    "plt.show()"
   ]
  },
  {
   "cell_type": "code",
   "execution_count": 4,
   "id": "6ff0d83c",
   "metadata": {
    "scrolled": true
   },
   "outputs": [
    {
     "name": "stdout",
     "output_type": "stream",
     "text": [
      "count 0\n",
      "---------------------------------------------------\n",
      "아 / 점 / 잼 / 즐 / 끙 / 와 / 굿 /   / 기 / 짱 / 휴 / 야 / 음 / ㅎ / ㅋ / 굳 / 하 / 네 / ㅇ / 등 / ㅠ / 우 / 쒯 / 쩝 / 토 / 똥 / 흠 / 류 / 헐 / 삼 / 꽝 / 풉 / ㅅ / 왜 / ㄴ / 쉣 / 좇 / 봐 / 까 / 뿌 / ㅜ / 자 / 참 / ㅁ / ㅉ / 흥 / 찜 / 귯 / 린 / 후 / 시 / ㅗ / 웅 / ㅣ / 오 / 쩜 / 허 / 뀼 / 넌 / 빠 / 애 / 헝 / 쨩 / 움 / 켁 / 엥 / ㄳ / 업 / 헉 / 군 / 올 / 걍 / 뷁 / 좀 / 멍 / 쀍 / 뭐 / 로 / ㄹ / ㅂ / 갑 / 욱 / 즛 / 킥 / 함 / 진 / 읭 / ㅡ / 잠 / 풋 / 곧 / ㅍ / ㅏ / 엄 / 닥 / 꽤 / 캬 / ㅆ / ㄵ / ㄱ / count 130\n",
      "---------------------------------------------------\n",
      "최고 / 졸작 / 대박 / 버려 / 망함 / 굳굳 / 안습 / 대강 / 망작 / ㅇㅇ / 쵝오 / 별루 / 씐나 / 아오 / 글쎄 / 어휴 / 쓰렉 / 짱짱 / 웃스 / 좋다 / 볼만 / 허접 / 비추 / ㅎㅎ / 아나 / 아휴 / 빠닼 / 읭응 / ㅉㅉ / 역시 / 만세 / 야동 / 에휴 / 아하 / 별로 / 오오 /    / 에혀 / 평이 / 지루 / 별개 / 오욈 / ㅋㅋ / 지송 / 하네 / 눈물 / ㅅ바 / 와우 / 휴우 / 쯧쯧 / 당연 / 쩔어 / 별노 / 몰입 / 졸잼 / 씨발 / 구림 / 오짱 / 젠장 / 순수 / 돋네 / 오글 / 이응 / 참나 / 좋군 / 코콩 / 멋져 / 첨봄 / 최악 / 잼씀 / 유후 / 달달 / 감동 / 뭘까 / 광구 / 으리 / 글자 / 조앙 / 잤다 / 표절 / 명작 / 으휴 / 뭘봐 / 에효 / 의리 / 아  / 재미 / 그닥 / ㄱ굿 / 굿잡 / 잼나 / ㅜㅜ / 꿀잼 / 우왕 / 거지 / 굿굿 / 분봄 / 막장 / 박수 / 억지 / count 556\n",
      "---------------------------------------------------\n",
      "별로다 / 좋구나 / 볼만해 / 로큰롤 / 처ㅝ주 / 솔직히 /     / 재밌다 / 재밌군 / 좋았다 / 재밌따 / 싸우자 / 재미무 / 보지마 / 볼만함 / 완점잼 / 재밋네 / 최고다 / 재밌음 / 쓰래기 / 갑이다 / 죽을래 / 료코짱 / 이건뭐 / 청국장 / 좋아요 / ㅋㅋㅋ / 왜봣지 / 재및음 / 좋아여 / 심하네 / 재미쪙 / 하하하 / 잼난다 / 쓰레기 / 별루  / 가보자 / 별로야 / 신선함 / 즐ㄹㅋ /  가자 / 재밋다 / 아ㅅㅂ / 쨩이야 / ㅉㅉㅉ / 짱이야 / 별론데 / 최고지 / 지못미 / 나이스 / 남자란 / 전형적 / 원주율 / 좋은테 / ㅇㅅㅇ / 보세요 / 잼없다 / 다섯개 / 떡실신 / 접어라 / 쓰중쓰 / 와잼따 / 이건머 / 기영화 / 감동ㅋ / 깨금찡 / 직인다 / 지루해 / 짱짱짱 / 레전드 / ㅠㅅㅠ / 이연걸 / 별로임 / 진리임 / 감동적 / 재밌어 / 걍 굿 / 아시바 / 지루력 / 팬이다 / 잼있다 / 잠온다 / 쒸레기 / 의리다 / 넘길어 / 썩었내 / 짱멋짐 / 형제들 / ㄴㄹㄴ / 이은주 / 성룡짱 / 신난다 / 기발한 / 찌질  / 왜봤지 / 원더풀 / 그다지 / 괜찮네 / 이민정 / 김서울 / count 950\n",
      "---------------------------------------------------\n",
      "사이몬페그의 익살스런 연기가 돋보였던 영화스파이더맨에서 늙어보이기만 했던 커스틴 던스트가 너무나도 이뻐보였다 / 지금까지본 아이리스 시리즈중 최악이다ㅠㅠ 이거해도 너무하는거아닌가수치스럽다 연기고자시고 다 떠나 너무도허접합 / 두말할 나위없이 최고의 작품인생에 대해서 생각해보게 하는 깊이있는 영화전 출연진과 제작진에게 큰박수를 보낸다 / 영화의 큰 줄기는 복수이병헌이 복수에 성공함으로써 통쾌함을 느낄것이다에릭도 총팔이의 복수를 위해 등장하는거임 / 진짜진심으로더럽게재미없음 돈시간버리고 보너스로오글거림에짜증 개유치하기까지 올해들어최악의영화 별개도아까운쓰레기 / 방금 예매했어요 상영관이 별로 없네요 직장인들은 거의 불가능한 시간 뿐이고 소재 만으로도 점은 받아야할 영화 / 초때보고 아무감흥도 없이 액션씬 재밋게봤는데지금다시보니 소름요즘 이런영화 자주안나오는데 진짜 재밋게 다시봤다 / 김치년들 자위질하네 대한민국은 이땅의 아버지들이 만들었다남자하나물어서 평생먹고 살생각밖에없는 하등한 존재둘아 / 어떤것을 좋아하던지간에 자신이 좋아하는 일을 성취하는 자체가 너무 멋지다 기회가 되면 나도 해보고싶은데 ㅠㅠ / 그 당시에 스토리나 연출은 정말 충격 그자체였음지금도 많은 공포영화가있지만 링처럼 창의적인 스토리는 보질못함 / count 575\n",
      "---------------------------------------------------\n",
      "티비에서 해준거보고 빡쳐서 들어와서 쓴다 주인공커플 하는일 하나두없음 쫓기며 돌아다니기만하고 싸움중인 군인 불러대면서 구해달라 난리치고 주인공답게 뭐 하는것없어 답답해 죽겠는데 쓸데없이 화면은 느리게잡고 마지막엔 아오뽁쳐 엔딩화면뜨는데 온가족이 말잃음 / 나는 나쁘지 않게 봤다만 대부분의사람들은 뭔가 있어보이면 명작이라고 칭송한단 말이지 니들이 이해못해서 재미없다고 하는 정신승리를 곁들여 말이야 연출은 참신했으나 복선이 진부하고 각 플롯마다 연관성이 부족했다 뭐 이것도 감독이 설계했다하면 할말 없겠지만 / 이런컨셉이면 최소한 현실성에 기반을 두는데 이건 공상을 넘어선 허상 킬링탐용도 안됨 잠이안와서 뭔가 하나라도 스킵 해가면서 보려느 목적이라도 이건 보지마소 짜증나서 잠이 깰듯 내가 이거 호주에서 봤는데 이거 다 욕했음 밑엣놈은 그저 한국까는 한국쓰레기 / 다율엄마 같은 착한병 환자는 암이나 치매 같은 병 같이 국가에서 관리해야 합니다 특히 다율엄마의 착한병은 다율엄마 본인 뿐만 아니라 가족과 이웃의 삶을 파탄시키는 아주 큰 질병 입니다 다율 엄마 같은 착한병 환자들을 국가에서 집중관리 당장 해야 합니다 / 소방관과 의사이야기라서 그런가 사람 목숨가지고 관객들 감동시키는 너무 극적인 에피소드들이 과하게 많이 나열되어있고 한 부부 인생 망쳐놓고서 고수만 졸졸따라다니며 꼬시려는 한효주캐릭터는 너무 비현실적이며 별로였다 차라리 김성오랑 쥬니 커플이 훨씬 좋았다 / 솔직히 빅뱅팬질 오래했는데 기사만 보고 승리가 그런식으로 말했다길래 미쳤나 싶어서 반응 보니깐ㅋㅋㅋㅋㅋㅋㅋㅋㅋㅋㅋㅋㅋㅋㅋ화신 미쳤넼ㅋㅋㅋㅋㅋㅋㅋㅋㅋㅋㅋㅋ 승리도 그렇게 해명했지만 피해자인건 사실인듯 ㅋㅋㅋㅋ 그나저나 김준호 김대희 진짜 멘탈 갑임 ㅇㅇ / 사람의 삶 인생 그게 어떻게되든 모든사람은 같이태어나 똑같이 늙어가고 결국 아이가되어 왔다간흔적만 남기고 사라져간다 아빠의 삶 그리고 엄마의 삶 중요한건 제일 소중한게 어떤것인지 그리고 그걸 어떻게 알아가는지 마지막까지 얼마나 소중한것에 충실했는지이다 / ㅋㅋㅋㅋㅋㅋㅋㅋㅋㅋㅋㅋㅋㅋㅋㅋㅋㅋㅋㅋㅋㅋㅋㅋㅋㅋㅋㅋㅋㅋㅋㅋㅋㅋㅋㅋㅋㅋㅋㅋㅋㅋㅋㅋㅋㅋㅋㅋㅋㅋㅋㅋㅋㅋㅋㅋㅋㅋㅋㅋㅋㅋㅋㅋㅋㅋㅋㅋㅋㅋㅋㅋㅋㅋㅋㅋㅋㅋㅋㅋㅋㅋㅋㅋㅋㅋㅋㅋㅋㅋㅋㅋㅋㅋㅋㅋㅋㅋㅋㅋㅋㅋㅋㅋㅋㅋㅋㅋㅋㅋㅋㅋㅋㅋㅋㅋㅋㅋㅋㅋㅋㅋㅋㅋㅋㅋㅋㅋㅋㅋㅋㅋㅋㅋㅋㅋㅋㅋㅋㅋ / 재미없다ㅠㅠㅠㅠㅠㅠㅠㅠㅠㅠㅠㅠㅠㅠㅠㅠㅠㅠㅠㅠㅠㅠㅠㅠㅠㅠㅠㅠㅠㅠㅠㅠㅠㅠㅠㅠㅠㅠㅠㅠㅠㅠㅠㅠㅠㅠㅠㅠㅠㅠㅠㅠㅠㅠㅠㅠㅠㅠㅠㅠㅠㅠㅠㅠㅠㅠㅠㅠㅠㅠㅠㅠㅠㅠㅠㅠㅠㅠㅠㅠㅠㅠㅠㅠㅠㅠㅠㅠㅠㅠㅠㅠㅠㅠㅠㅠㅠㅠㅠㅠㅠㅠㅠㅠㅠㅠㅠㅠㅠㅠㅠㅠㅠㅠㅠㅠㅠㅠㅠㅠㅠㅠㅠㅠㅠㅠㅠㅠㅠㅠㅠㅠㅠㅠㅠㅠ / 그로테스크하고 몽환적인 시대를 앞서간 섹스어필스릴러공포영화다 김영애의 집착적 망상속에 나오는 환상적이고 오버래핑 촬영기법은 이영화를 더욱 기괴하고공포스럽게 보이게한다 그리고 김영애가 정신분열증을 앓고있는걸 암시해주는 단적인 예라고도 할수 있다 최고수작 / count 38\n",
      "---------------------------------------------------\n"
     ]
    }
   ],
   "source": [
    "# 데이터 파악\n",
    "\n",
    "def check_sentence_with_length(raw, length, num):\n",
    "    count = 0 \n",
    "    for sen in raw:\n",
    "        if len(sen) == length:\n",
    "            if count < num:\n",
    "                print(sen, end=' / ')\n",
    "            count += 1\n",
    "    print('count', count)\n",
    "    print('---------------------------------------------------')\n",
    "check_sentence_with_length(raw, 0, 100)\n",
    "check_sentence_with_length(raw, 1, 100)\n",
    "check_sentence_with_length(raw, 2, 100)\n",
    "check_sentence_with_length(raw, 3, 100)\n",
    "check_sentence_with_length(raw, 60, 10)\n",
    "check_sentence_with_length(raw, 140, 10)"
   ]
  },
  {
   "cell_type": "code",
   "execution_count": 5,
   "id": "d4935001",
   "metadata": {
    "scrolled": true
   },
   "outputs": [],
   "source": [
    "max_len = 40\n",
    "\n",
    "# 후반부에 결론 짓는 문장들이 많기에 뒤에서 40글자로 자름\n",
    "filtered_corpus = [s[-max_len:] if len(s) > max_len else s for s in raw ]"
   ]
  },
  {
   "cell_type": "code",
   "execution_count": 6,
   "id": "9a952f6d",
   "metadata": {
    "scrolled": true
   },
   "outputs": [
    {
     "name": "stdout",
     "output_type": "stream",
     "text": [
      "-rw-r--r-- 1 root root 373426 Aug 16 08:37 sp_bpe_8000.model\r\n",
      "-rw-r--r-- 1 root root 118631 Aug 16 08:37 sp_bpe_8000.vocab\r\n",
      "-rw-r--r-- 1 root root 518766 Aug 16 08:38 sp_unigram_15000.model\r\n",
      "-rw-r--r-- 1 root root 294332 Aug 16 08:38 sp_unigram_15000.vocab\r\n",
      "-rw-r--r-- 1 root root 377753 Aug 16 08:36 sp_unigram_8000.model\r\n",
      "-rw-r--r-- 1 root root 147144 Aug 16 08:36 sp_unigram_8000.vocab\r\n"
     ]
    }
   ],
   "source": [
    "# SentencePiece 클래스 생성 \n",
    "class SentencePiece:\n",
    "    def __init__(self, vocab_size=8000):\n",
    "        self.temp_file = os.getenv('HOME')+'/aiffel/sp_tokenizer/data/korean-english-park.train.ko.temp'\n",
    "        self.vocab_size = vocab_size\n",
    "    \n",
    "    def train(self, raw, model_type='unigram'):\n",
    "        with open(self.temp_file, 'w') as f:\n",
    "            for row in filtered_corpus:\n",
    "                f.write(str(row) + '\\n')\n",
    "\n",
    "        spm.SentencePieceTrainer.Train(\n",
    "            f'--input={self.temp_file} --model_type={model_type} --model_prefix=sp_{model_type}_{self.vocab_size} --vocab_size={self.vocab_size}'    \n",
    "        )\n",
    "\n",
    "vocab_size=8000\n",
    "model_type='unigram'\n",
    "# sp_model = SentencePiece(vocab_size=vocab_size)\n",
    "# sp_model.train(raw, model_type=model_type)\n",
    "!ls -l sp*"
   ]
  },
  {
   "cell_type": "code",
   "execution_count": 7,
   "id": "1b941586",
   "metadata": {
    "scrolled": true
   },
   "outputs": [
    {
     "name": "stdout",
     "output_type": "stream",
     "text": [
      "[1505, 7, 399, 12, 1264, 7, 135, 11, 0]\n",
      "['▁아버지', '가', '방', '에', '들어', '가', '신', '다', '.']\n",
      "아버지가방에들어가신다 ⁇ \n"
     ]
    }
   ],
   "source": [
    "# SentencePiece이 잘 학습되었는지 확인\n",
    "sp_model_uni_8000 = spm.SentencePieceProcessor()\n",
    "sp_model_uni_8000.Load(f'sp_{model_type}_{vocab_size}.model')\n",
    "\n",
    "# SentencePiece를 활용한 sentence -> encoding\n",
    "tokensIDs = sp_model_uni_8000.EncodeAsIds('아버지가방에들어가신다.')\n",
    "print(tokensIDs)\n",
    "\n",
    "# SentencePiece를 활용한 sentence -> encoded pieces\n",
    "print(sp_model_uni_8000.SampleEncodeAsPieces('아버지가방에들어가신다.',1, 0.0))\n",
    "\n",
    "# SentencePiece를 활용한 encoding -> sentence 복원\n",
    "print(sp_model_uni_8000.DecodeIds(tokensIDs))"
   ]
  },
  {
   "cell_type": "code",
   "execution_count": 8,
   "id": "25e837a2",
   "metadata": {},
   "outputs": [],
   "source": [
    "def sp_tokenize(s, corpus, model_name, padding='pre', max_len=40): \n",
    "\n",
    "    tensor = list()\n",
    "    # 문장을 인코딩하여 저장\n",
    "    for sen in corpus:\n",
    "        tensor.append(s.EncodeAsIds(sen))\n",
    "\n",
    "    with open(f'./{model_name}.vocab', 'r') as f:\n",
    "        vocab = f.readlines()\n",
    "\n",
    "    word_to_index = dict()\n",
    "    index_to_word = dict()\n",
    "\n",
    "    for idx, line in enumerate(vocab):\n",
    "        word = line.split(\"\\t\")[0]\n",
    "        word_to_index.update({word: idx})\n",
    "        index_to_word.update({idx: word})\n",
    "    \n",
    "    # 맥스 길이 40에 맞게 패딩을 앞에 집어 넣음 padding=pre\n",
    "    tensor = tf.keras.preprocessing.sequence.pad_sequences(tensor, padding=padding, maxlen=max_len)\n",
    "\n",
    "    return tensor, word_to_index, index_to_word"
   ]
  },
  {
   "cell_type": "code",
   "execution_count": 9,
   "id": "f8e15c04",
   "metadata": {},
   "outputs": [
    {
     "name": "stdout",
     "output_type": "stream",
     "text": [
      "[[   0    0    0 ... 1930   48 1345]\n",
      " [   0    0    0 ...   15  616  388]\n",
      " [   0    0    0 ... 5836 1594  280]\n",
      " ...\n",
      " [   0    0    0 ... 6444   84 2596]\n",
      " [   0    0    0 ...  288  624   30]\n",
      " [   0    0    0 ...    9  183 3442]]\n",
      "191073\n"
     ]
    }
   ],
   "source": [
    "tensor, word_to_index, index_to_word = sp_tokenize(sp_model_uni_8000, raw, f'sp_{model_type}_{vocab_size}', max_len=max_len)\n",
    "print(tensor)\n",
    "print(len(tensor))"
   ]
  },
  {
   "cell_type": "code",
   "execution_count": 10,
   "id": "81748554",
   "metadata": {},
   "outputs": [
    {
     "name": "stdout",
     "output_type": "stream",
     "text": [
      "[   0    0    0    0    0    0    0    0    0    0    0    0    0    0\n",
      "    0    0    0    0    0    0    0    0    0    0    0    0 1490 4718\n",
      "  157 1227   26  297  163  572  355 1257 4740   15  616  388]\n"
     ]
    }
   ],
   "source": [
    "# tensor = tensor.reshape(tensor.shape[0], tensor.shape[1], 1)\n",
    "print(tensor[1])"
   ]
  },
  {
   "cell_type": "code",
   "execution_count": 11,
   "id": "5ab8d6af",
   "metadata": {},
   "outputs": [
    {
     "name": "stdout",
     "output_type": "stream",
     "text": [
      "train 160000 160000\n",
      "val 31000 31000\n",
      "test 73 73\n"
     ]
    }
   ],
   "source": [
    "# train val test 데이터 나누기\n",
    "X_train, y_train = tensor[:160000], total_data['label'][:160000]\n",
    "X_val, y_val = tensor[160000:-73], total_data['label'][160000:-73]\n",
    "X_test, y_test = tensor[-73:], total_data['label'][-73:]\n",
    "print('train', len(X_train), len(y_train))\n",
    "print('val', len(X_val), len(y_val))\n",
    "print('test', len(X_test), len(y_test))"
   ]
  },
  {
   "cell_type": "code",
   "execution_count": 12,
   "id": "c158c98b",
   "metadata": {
    "scrolled": false
   },
   "outputs": [
    {
     "name": "stdout",
     "output_type": "stream",
     "text": [
      "Model: \"sequential\"\n",
      "_________________________________________________________________\n",
      "Layer (type)                 Output Shape              Param #   \n",
      "=================================================================\n",
      "embedding (Embedding)        (None, 40, 1)             8000      \n",
      "_________________________________________________________________\n",
      "lstm (LSTM)                  (None, 8)                 320       \n",
      "_________________________________________________________________\n",
      "dense (Dense)                (None, 8)                 72        \n",
      "_________________________________________________________________\n",
      "dense_1 (Dense)              (None, 1)                 9         \n",
      "=================================================================\n",
      "Total params: 8,401\n",
      "Trainable params: 8,401\n",
      "Non-trainable params: 0\n",
      "_________________________________________________________________\n"
     ]
    }
   ],
   "source": [
    "# 모델을 함수로 작성\n",
    "def sequential_model(vocab_size, max_len=40):\n",
    "    model = tf.keras.Sequential()\n",
    "    # model.add(tf.keras.layers.LSTM(8, input_shape=(max_len, 1), return_sequences=True))\n",
    "    model.add(tf.keras.layers.Embedding(vocab_size, 1, input_shape=(max_len,)))\n",
    "    model.add(tf.keras.layers.LSTM(8))\n",
    "    model.add(tf.keras.layers.Dense(8, activation='relu'))\n",
    "    model.add(tf.keras.layers.Dense(1, activation='sigmoid'))\n",
    "    \n",
    "    model.compile(optimizer='adam', loss='binary_crossentropy', metrics=['accuracy'])\n",
    "    \n",
    "    return model\n",
    "\n",
    "model_uni_8000 = sequential_model(8000)\n",
    "model_uni_8000.summary()"
   ]
  },
  {
   "cell_type": "code",
   "execution_count": 13,
   "id": "fa4b0df5",
   "metadata": {},
   "outputs": [
    {
     "name": "stdout",
     "output_type": "stream",
     "text": [
      "Epoch 1/50\n",
      "625/625 [==============================] - 7s 6ms/step - loss: 0.5139 - accuracy: 0.7457 - val_loss: 0.3796 - val_accuracy: 0.8363\n",
      "Epoch 2/50\n",
      "625/625 [==============================] - 3s 5ms/step - loss: 0.3447 - accuracy: 0.8536 - val_loss: 0.3591 - val_accuracy: 0.8437\n",
      "Epoch 3/50\n",
      "625/625 [==============================] - 3s 5ms/step - loss: 0.3270 - accuracy: 0.8613 - val_loss: 0.3567 - val_accuracy: 0.8464\n",
      "Epoch 4/50\n",
      "625/625 [==============================] - 3s 5ms/step - loss: 0.3202 - accuracy: 0.8642 - val_loss: 0.3560 - val_accuracy: 0.8460\n",
      "Epoch 5/50\n",
      "625/625 [==============================] - 3s 5ms/step - loss: 0.3177 - accuracy: 0.8653 - val_loss: 0.3571 - val_accuracy: 0.8463\n",
      "Epoch 6/50\n",
      "625/625 [==============================] - 3s 5ms/step - loss: 0.3161 - accuracy: 0.8657 - val_loss: 0.3568 - val_accuracy: 0.8459\n",
      "Epoch 7/50\n",
      "625/625 [==============================] - 3s 5ms/step - loss: 0.3148 - accuracy: 0.8666 - val_loss: 0.3585 - val_accuracy: 0.8464\n",
      "Epoch 8/50\n",
      "625/625 [==============================] - 3s 5ms/step - loss: 0.3134 - accuracy: 0.8679 - val_loss: 0.3592 - val_accuracy: 0.8441\n",
      "Epoch 00008: early stopping\n"
     ]
    }
   ],
   "source": [
    "es = EarlyStopping(monitor='val_loss', patience=4, verbose=1)\n",
    "\n",
    "epochs = 50\n",
    "\n",
    "history_uni_8000 = model_uni_8000.fit(X_train,\n",
    "                                      y_train,\n",
    "                                      epochs=epochs,\n",
    "                                      batch_size=256,\n",
    "                                      validation_data=(X_val, y_val),\n",
    "                                      callbacks=[es]\n",
    "                                     )"
   ]
  },
  {
   "cell_type": "code",
   "execution_count": 14,
   "id": "0d2dab39",
   "metadata": {},
   "outputs": [
    {
     "name": "stdout",
     "output_type": "stream",
     "text": [
      "3/3 - 0s - loss: 0.3424 - accuracy: 0.7945\n",
      "[0.3424074649810791, 0.7945205569267273]\n"
     ]
    }
   ],
   "source": [
    "# 테스트 값 결과 확인\n",
    "results = model_uni_8000.evaluate(X_test, y_test, verbose=2)\n",
    "print(results)"
   ]
  },
  {
   "cell_type": "code",
   "execution_count": 15,
   "id": "fc20b8a6",
   "metadata": {},
   "outputs": [
    {
     "name": "stdout",
     "output_type": "stream",
     "text": [
      "[[   0    0    0 ... 2149   28 1943]\n",
      " [   0    0    0 ... 6436   63  360]\n",
      " [   0    0    0 ... 1248 1459  241]\n",
      " ...\n",
      " [   0    0    0 ... 6495  101 2954]\n",
      " [   0    0    0 ...  125 6700 6471]\n",
      " [   0    0    0 ...  301  244 3293]]\n",
      "train 160000 160000\n",
      "val 31000 31000\n",
      "test 73 73\n",
      "Model: \"sequential_1\"\n",
      "_________________________________________________________________\n",
      "Layer (type)                 Output Shape              Param #   \n",
      "=================================================================\n",
      "embedding_1 (Embedding)      (None, 40, 1)             8000      \n",
      "_________________________________________________________________\n",
      "lstm_1 (LSTM)                (None, 8)                 320       \n",
      "_________________________________________________________________\n",
      "dense_2 (Dense)              (None, 8)                 72        \n",
      "_________________________________________________________________\n",
      "dense_3 (Dense)              (None, 1)                 9         \n",
      "=================================================================\n",
      "Total params: 8,401\n",
      "Trainable params: 8,401\n",
      "Non-trainable params: 0\n",
      "_________________________________________________________________\n"
     ]
    }
   ],
   "source": [
    "vocab_size=8000\n",
    "model_type='bpe'\n",
    "# sp_model = SentencePiece(vocab_size=vocab_size)\n",
    "# sp_model.train(raw, model_type=model_type)\n",
    "\n",
    "sp_model_bpe_8000 = spm.SentencePieceProcessor()\n",
    "sp_model_bpe_8000.Load(f'sp_{model_type}_{vocab_size}.model')\n",
    "\n",
    "tensor, word_to_index, index_to_word = sp_tokenize(sp_model_bpe_8000, raw, f'sp_{model_type}_{vocab_size}', max_len=max_len)\n",
    "print(tensor)\n",
    "\n",
    "X_train, y_train = tensor[:160000], total_data['label'][:160000]\n",
    "X_val, y_val = tensor[160000:-73], total_data['label'][160000:-73]\n",
    "X_test, y_test = tensor[-73:], total_data['label'][-73:]\n",
    "print('train', len(X_train), len(y_train))\n",
    "print('val', len(X_val), len(y_val))\n",
    "print('test', len(X_test), len(y_test))\n",
    "\n",
    "model_bpe_8000 = sequential_model(vocab_size)\n",
    "model_bpe_8000.summary()"
   ]
  },
  {
   "cell_type": "code",
   "execution_count": 16,
   "id": "4d417e9a",
   "metadata": {},
   "outputs": [
    {
     "name": "stdout",
     "output_type": "stream",
     "text": [
      "Epoch 1/50\n",
      "625/625 [==============================] - 5s 5ms/step - loss: 0.4994 - accuracy: 0.7511 - val_loss: 0.3730 - val_accuracy: 0.8365\n",
      "Epoch 2/50\n",
      "625/625 [==============================] - 3s 5ms/step - loss: 0.3415 - accuracy: 0.8537 - val_loss: 0.3573 - val_accuracy: 0.8429\n",
      "Epoch 3/50\n",
      "625/625 [==============================] - 3s 5ms/step - loss: 0.3263 - accuracy: 0.8613 - val_loss: 0.3557 - val_accuracy: 0.8449\n",
      "Epoch 4/50\n",
      "625/625 [==============================] - 3s 5ms/step - loss: 0.3213 - accuracy: 0.8634 - val_loss: 0.3565 - val_accuracy: 0.8451\n",
      "Epoch 5/50\n",
      "625/625 [==============================] - 3s 5ms/step - loss: 0.3182 - accuracy: 0.8652 - val_loss: 0.3599 - val_accuracy: 0.8450\n",
      "Epoch 6/50\n",
      "625/625 [==============================] - 3s 5ms/step - loss: 0.3167 - accuracy: 0.8667 - val_loss: 0.3585 - val_accuracy: 0.8445\n",
      "Epoch 7/50\n",
      "625/625 [==============================] - 3s 5ms/step - loss: 0.3150 - accuracy: 0.8675 - val_loss: 0.3606 - val_accuracy: 0.8408\n",
      "Epoch 00007: early stopping\n"
     ]
    }
   ],
   "source": [
    "history_bpe_8000 = model_bpe_8000.fit(X_train,\n",
    "                                  y_train,\n",
    "                                  epochs=epochs,\n",
    "                                  batch_size=256,\n",
    "                                  validation_data=(X_val, y_val),\n",
    "                                  callbacks=[es]\n",
    "                                 )"
   ]
  },
  {
   "cell_type": "code",
   "execution_count": 17,
   "id": "9c42432f",
   "metadata": {},
   "outputs": [
    {
     "name": "stdout",
     "output_type": "stream",
     "text": [
      "3/3 - 0s - loss: 0.3719 - accuracy: 0.8082\n",
      "[0.3718911409378052, 0.8082191944122314]\n"
     ]
    }
   ],
   "source": [
    "results = model_bpe_8000.evaluate(X_test, y_test, verbose=2)\n",
    "print(results)"
   ]
  },
  {
   "cell_type": "code",
   "execution_count": 18,
   "id": "ed3bb0c5",
   "metadata": {},
   "outputs": [
    {
     "name": "stdout",
     "output_type": "stream",
     "text": [
      "[[   0    0    0 ... 1907   60 1315]\n",
      " [   0    0    0 ... 9056  790  344]\n",
      " [   0    0    0 ...   10 1873  262]\n",
      " ...\n",
      " [   0    0    0 ... 6184  105 2147]\n",
      " [   0    0    0 ...  314  888   38]\n",
      " [   0    0    0 ...    9  143 2866]]\n",
      "train 160000 160000\n",
      "val 31000 31000\n",
      "test 73 73\n",
      "Model: \"sequential_2\"\n",
      "_________________________________________________________________\n",
      "Layer (type)                 Output Shape              Param #   \n",
      "=================================================================\n",
      "embedding_2 (Embedding)      (None, 40, 1)             15000     \n",
      "_________________________________________________________________\n",
      "lstm_2 (LSTM)                (None, 8)                 320       \n",
      "_________________________________________________________________\n",
      "dense_4 (Dense)              (None, 8)                 72        \n",
      "_________________________________________________________________\n",
      "dense_5 (Dense)              (None, 1)                 9         \n",
      "=================================================================\n",
      "Total params: 15,401\n",
      "Trainable params: 15,401\n",
      "Non-trainable params: 0\n",
      "_________________________________________________________________\n"
     ]
    }
   ],
   "source": [
    "vocab_size=15000\n",
    "model_type='unigram'\n",
    "# sp_model = SentencePiece(vocab_size=vocab_size)\n",
    "# sp_model.train(raw, model_type=model_type)\n",
    "\n",
    "sp_model_uni_15000 = spm.SentencePieceProcessor()\n",
    "sp_model_uni_15000.Load(f'sp_{model_type}_{vocab_size}.model')\n",
    "\n",
    "tensor, word_to_index, index_to_word = sp_tokenize(sp_model_uni_15000, raw, f'sp_{model_type}_{vocab_size}', max_len=max_len)\n",
    "print(tensor)\n",
    "\n",
    "X_train, y_train = tensor[:160000], total_data['label'][:160000]\n",
    "X_val, y_val = tensor[160000:-73], total_data['label'][160000:-73]\n",
    "X_test, y_test = tensor[-73:], total_data['label'][-73:]\n",
    "print('train', len(X_train), len(y_train))\n",
    "print('val', len(X_val), len(y_val))\n",
    "print('test', len(X_test), len(y_test))\n",
    "\n",
    "model_uni_15000 = sequential_model(vocab_size)\n",
    "model_uni_15000.summary()"
   ]
  },
  {
   "cell_type": "code",
   "execution_count": 19,
   "id": "d011e48d",
   "metadata": {},
   "outputs": [
    {
     "name": "stdout",
     "output_type": "stream",
     "text": [
      "Epoch 1/50\n",
      "625/625 [==============================] - 5s 5ms/step - loss: 0.5198 - accuracy: 0.7424 - val_loss: 0.3823 - val_accuracy: 0.8378\n",
      "Epoch 2/50\n",
      "625/625 [==============================] - 3s 5ms/step - loss: 0.3335 - accuracy: 0.8606 - val_loss: 0.3555 - val_accuracy: 0.8490\n",
      "Epoch 3/50\n",
      "625/625 [==============================] - 3s 5ms/step - loss: 0.3043 - accuracy: 0.8743 - val_loss: 0.3534 - val_accuracy: 0.8511\n",
      "Epoch 4/50\n",
      "625/625 [==============================] - 3s 5ms/step - loss: 0.2937 - accuracy: 0.8790 - val_loss: 0.3577 - val_accuracy: 0.8487\n",
      "Epoch 5/50\n",
      "625/625 [==============================] - 3s 5ms/step - loss: 0.2871 - accuracy: 0.8825 - val_loss: 0.3571 - val_accuracy: 0.8493\n",
      "Epoch 6/50\n",
      "625/625 [==============================] - 3s 5ms/step - loss: 0.2833 - accuracy: 0.8841 - val_loss: 0.3589 - val_accuracy: 0.8475\n",
      "Epoch 7/50\n",
      "625/625 [==============================] - 3s 5ms/step - loss: 0.2801 - accuracy: 0.8854 - val_loss: 0.3613 - val_accuracy: 0.8465\n",
      "Epoch 00007: early stopping\n"
     ]
    }
   ],
   "source": [
    "history_uni_15000 = model_uni_15000.fit(X_train,\n",
    "                                  y_train,\n",
    "                                  epochs=epochs,\n",
    "                                  batch_size=256,\n",
    "                                  validation_data=(X_val, y_val),\n",
    "                                  callbacks=[es]\n",
    "                                 )"
   ]
  },
  {
   "cell_type": "code",
   "execution_count": 20,
   "id": "4477e80d",
   "metadata": {},
   "outputs": [
    {
     "name": "stdout",
     "output_type": "stream",
     "text": [
      "3/3 - 0s - loss: 0.4339 - accuracy: 0.7945\n",
      "[0.43388184905052185, 0.7945205569267273]\n"
     ]
    }
   ],
   "source": [
    "results = model_uni_15000.evaluate(X_test, y_test, verbose=2)\n",
    "print(results)"
   ]
  },
  {
   "cell_type": "code",
   "execution_count": 27,
   "id": "53ede0f1",
   "metadata": {},
   "outputs": [
    {
     "name": "stdout",
     "output_type": "stream",
     "text": [
      "[[    0     0     0 ...  2149    28  1943]\n",
      " [    0     0     0 ... 13436    63   360]\n",
      " [    0     0     0 ...  1248  1459   241]\n",
      " ...\n",
      " [    0     0     0 ...  6832   101  2954]\n",
      " [    0     0     0 ...   125 13700 13471]\n",
      " [    0     0     0 ...   301   244  3293]]\n",
      "train 160000 160000\n",
      "val 31000 31000\n",
      "test 73 73\n",
      "Model: \"sequential_3\"\n",
      "_________________________________________________________________\n",
      "Layer (type)                 Output Shape              Param #   \n",
      "=================================================================\n",
      "embedding_3 (Embedding)      (None, 40, 1)             15000     \n",
      "_________________________________________________________________\n",
      "lstm_3 (LSTM)                (None, 8)                 320       \n",
      "_________________________________________________________________\n",
      "dense_6 (Dense)              (None, 8)                 72        \n",
      "_________________________________________________________________\n",
      "dense_7 (Dense)              (None, 1)                 9         \n",
      "=================================================================\n",
      "Total params: 15,401\n",
      "Trainable params: 15,401\n",
      "Non-trainable params: 0\n",
      "_________________________________________________________________\n"
     ]
    }
   ],
   "source": [
    "vocab_size = 15000\n",
    "model_type = 'bpe'\n",
    "# sp_model = SentencePiece(vocab_size=vocab_size)\n",
    "# sp_model.train(raw, model_type=model_type)\n",
    "\n",
    "sp_model_bpe_15000 = spm.SentencePieceProcessor()\n",
    "sp_model_bpe_15000.Load(f'sp_{model_type}_{vocab_size}.model')\n",
    "\n",
    "tensor, word_to_index, index_to_word = sp_tokenize(sp_model_bpe_15000, raw, f'sp_{model_type}_{vocab_size}', max_len=max_len)\n",
    "print(tensor)\n",
    "\n",
    "X_train, y_train = tensor[:160000], total_data['label'][:160000]\n",
    "X_val, y_val = tensor[160000:-73], total_data['label'][160000:-73]\n",
    "X_test, y_test = tensor[-73:], total_data['label'][-73:]\n",
    "print('train', len(X_train), len(y_train))\n",
    "print('val', len(X_val), len(y_val))\n",
    "print('test', len(X_test), len(y_test))\n",
    "\n",
    "model_bpe_15000 = sequential_model(vocab_size)\n",
    "model_bpe_15000.summary()"
   ]
  },
  {
   "cell_type": "code",
   "execution_count": 29,
   "id": "58d04e4e",
   "metadata": {},
   "outputs": [
    {
     "name": "stdout",
     "output_type": "stream",
     "text": [
      "Epoch 1/50\n",
      "625/625 [==============================] - 3s 5ms/step - loss: 0.6883 - accuracy: 0.5693 - val_loss: 0.6390 - val_accuracy: 0.6370\n",
      "Epoch 2/50\n",
      "625/625 [==============================] - 3s 5ms/step - loss: 0.5465 - accuracy: 0.7191 - val_loss: 0.4795 - val_accuracy: 0.7705\n",
      "Epoch 3/50\n",
      "625/625 [==============================] - 3s 5ms/step - loss: 0.4309 - accuracy: 0.8011 - val_loss: 0.4186 - val_accuracy: 0.8090\n",
      "Epoch 4/50\n",
      "625/625 [==============================] - 3s 5ms/step - loss: 0.3827 - accuracy: 0.8287 - val_loss: 0.3950 - val_accuracy: 0.8207\n",
      "Epoch 5/50\n",
      "625/625 [==============================] - 3s 5ms/step - loss: 0.3603 - accuracy: 0.8412 - val_loss: 0.3870 - val_accuracy: 0.8247\n",
      "Epoch 6/50\n",
      "625/625 [==============================] - 3s 5ms/step - loss: 0.3483 - accuracy: 0.8471 - val_loss: 0.3794 - val_accuracy: 0.8286\n",
      "Epoch 7/50\n",
      "625/625 [==============================] - 3s 5ms/step - loss: 0.3409 - accuracy: 0.8513 - val_loss: 0.3790 - val_accuracy: 0.8303\n",
      "Epoch 8/50\n",
      "625/625 [==============================] - 3s 5ms/step - loss: 0.3369 - accuracy: 0.8534 - val_loss: 0.3788 - val_accuracy: 0.8299\n",
      "Epoch 9/50\n",
      "625/625 [==============================] - 3s 5ms/step - loss: 0.3339 - accuracy: 0.8552 - val_loss: 0.3772 - val_accuracy: 0.8301\n",
      "Epoch 10/50\n",
      "625/625 [==============================] - 3s 5ms/step - loss: 0.3317 - accuracy: 0.8563 - val_loss: 0.3764 - val_accuracy: 0.8298\n",
      "Epoch 11/50\n",
      "625/625 [==============================] - 3s 5ms/step - loss: 0.3305 - accuracy: 0.8569 - val_loss: 0.3776 - val_accuracy: 0.8303\n",
      "Epoch 12/50\n",
      "625/625 [==============================] - 3s 5ms/step - loss: 0.3292 - accuracy: 0.8580 - val_loss: 0.3760 - val_accuracy: 0.8295\n",
      "Epoch 13/50\n",
      "625/625 [==============================] - 3s 5ms/step - loss: 0.3284 - accuracy: 0.8583 - val_loss: 0.3774 - val_accuracy: 0.8293\n",
      "Epoch 14/50\n",
      "625/625 [==============================] - 3s 5ms/step - loss: 0.3276 - accuracy: 0.8589 - val_loss: 0.3815 - val_accuracy: 0.8277\n",
      "Epoch 15/50\n",
      "625/625 [==============================] - 3s 5ms/step - loss: 0.3270 - accuracy: 0.8592 - val_loss: 0.3775 - val_accuracy: 0.8293\n",
      "Epoch 16/50\n",
      "625/625 [==============================] - 3s 5ms/step - loss: 0.3267 - accuracy: 0.8596 - val_loss: 0.3812 - val_accuracy: 0.8280\n",
      "Epoch 00016: early stopping\n"
     ]
    }
   ],
   "source": [
    "history_bpe_15000 = model_bpe_8000.fit(X_train,\n",
    "                                       y_train,\n",
    "                                       epochs=epochs,\n",
    "                                       batch_size=256,\n",
    "                                       validation_data=(X_val, y_val),\n",
    "                                       callbacks=[es]\n",
    "                                      )"
   ]
  },
  {
   "cell_type": "code",
   "execution_count": 30,
   "id": "b2db150f",
   "metadata": {},
   "outputs": [
    {
     "name": "stdout",
     "output_type": "stream",
     "text": [
      "3/3 - 1s - loss: 0.6931 - accuracy: 0.5068\n",
      "[0.6930926442146301, 0.5068492889404297]\n"
     ]
    }
   ],
   "source": [
    "results = model_bpe_15000.evaluate(X_test, y_test, verbose=2)\n",
    "print(results)"
   ]
  },
  {
   "cell_type": "code",
   "execution_count": 35,
   "id": "1ef8a859",
   "metadata": {},
   "outputs": [
    {
     "data": {
      "image/png": "[encoded data removed]",
      "text/plain": [
       "<Figure size 1440x1440 with 4 Axes>"
      ]
     },
     "metadata": {
      "needs_background": "light"
     },
     "output_type": "display_data"
    }
   ],
   "source": [
    "# 4개의 모델들의 학습 상태를 그래프로 표현\n",
    "\n",
    "history_dict = history_uni_8000.history\n",
    "acc = history_dict['accuracy']\n",
    "val_acc = history_dict['val_accuracy']\n",
    "loss = history_dict['loss']\n",
    "val_loss = history_dict['val_loss']\n",
    "\n",
    "epochs = range(1, len(acc) + 1)\n",
    "\n",
    "plt.figure(figsize=(20, 20))\n",
    "\n",
    "plt.subplot(2, 2, 1)   \n",
    "plt.plot(epochs, loss, 'bo', label='Training loss')\n",
    "plt.plot(epochs, val_loss, 'b', label='Validation loss')\n",
    "plt.title('unigram 8000')\n",
    "plt.xlabel('Epochs')\n",
    "plt.ylabel('Loss')\n",
    "plt.legend()\n",
    "\n",
    "history_dict = history_bpe_8000.history\n",
    "acc = history_dict['accuracy']\n",
    "val_acc = history_dict['val_accuracy']\n",
    "loss = history_dict['loss']\n",
    "val_loss = history_dict['val_loss']\n",
    "\n",
    "epochs = range(1, len(acc) + 1)\n",
    "\n",
    "plt.subplot(2, 2, 2) \n",
    "plt.plot(epochs, loss, 'bo', label='Training loss')\n",
    "plt.plot(epochs, val_loss, 'b', label='Validation loss')\n",
    "plt.title('bpe 8000')\n",
    "plt.xlabel('Epochs')\n",
    "plt.ylabel('Loss')\n",
    "plt.legend()\n",
    "\n",
    "\n",
    "history_dict = history_uni_15000.history\n",
    "acc = history_dict['accuracy']\n",
    "val_acc = history_dict['val_accuracy']\n",
    "loss = history_dict['loss']\n",
    "val_loss = history_dict['val_loss']\n",
    "\n",
    "epochs = range(1, len(acc) + 1)\n",
    "\n",
    "plt.subplot(2, 2, 3)\n",
    "plt.plot(epochs, loss, 'bo', label='Training loss')\n",
    "plt.plot(epochs, val_loss, 'b', label='Validation loss')\n",
    "plt.title('unigram 15000')\n",
    "plt.xlabel('Epochs')\n",
    "plt.ylabel('Loss')\n",
    "plt.legend()\n",
    "\n",
    "\n",
    "history_dict = history_bpe_15000.history\n",
    "acc = history_dict['accuracy']\n",
    "val_acc = history_dict['val_accuracy']\n",
    "loss = history_dict['loss']\n",
    "val_loss = history_dict['val_loss']\n",
    "\n",
    "epochs = range(1, len(acc) + 1)\n",
    "\n",
    "plt.subplot(2, 2, 4)\n",
    "plt.plot(epochs, loss, 'bo', label='Training loss')\n",
    "plt.plot(epochs, val_loss, 'b', label='Validation loss')\n",
    "plt.title('bpe 15000')\n",
    "plt.xlabel('Epochs')\n",
    "plt.ylabel('Loss')\n",
    "plt.legend()\n",
    "\n",
    "\n",
    "plt.show()"
   ]
  },
  {
   "cell_type": "markdown",
   "id": "f74c18a0",
   "metadata": {},
   "source": [
    "# 각결과의 분석진행\n",
    "\n",
    "sentencepiece를 총 4개의 model_type = unigram, bpe, vocab_size = 8000, 15000을 섞어서 모델을 작성함\n",
    "각 모델은 정확도가 약 80% 전후로 나왔으나 bpe 15000 모델을 사용한 lstm만 테스트데이터가 50%가 나옴\n",
    "lstm의 학습 과정들은 전부 정확도 약 85% 로스값 35%로 수렴함"
   ]
  }
 ],
 "metadata": {
  "kernelspec": {
   "display_name": "Python 3 (ipykernel)",
   "language": "python",
   "name": "python3"
  },
  "language_info": {
   "codemirror_mode": {
    "name": "ipython",
    "version": 3
   },
   "file_extension": ".py",
   "mimetype": "text/x-python",
   "name": "python",
   "nbconvert_exporter": "python",
   "pygments_lexer": "ipython3",
   "version": "3.9.7"
  }
 },
 "nbformat": 4,
 "nbformat_minor": 5
}
