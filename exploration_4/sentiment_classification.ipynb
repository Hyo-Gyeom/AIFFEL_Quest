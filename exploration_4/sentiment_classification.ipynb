{
 "cells": [
  {
   "cell_type": "markdown",
   "id": "f3716db2",
   "metadata": {},
   "source": [
    "# 네이버 영화리뷰 감성 분석\n",
    "## exploration 4"
   ]
  },
  {
   "cell_type": "markdown",
   "id": "6e15f892",
   "metadata": {},
   "source": [
    "## 목표\n",
    "---\n",
    "1. 감성 분석 85%이상\n",
    "2. 3가지 이상의 모델 사용\n",
    "3. gensim의 유사단어 찾기를 활용하여 자체 임베딩과 사전학습 임베딩을 비교 분석"
   ]
  },
  {
   "cell_type": "markdown",
   "id": "ca4c4638",
   "metadata": {},
   "source": [
    "### 모델 설계\n",
    "---\n",
    "1. 데이터 준비\n",
    "    1. 제공된 데이터를 불러오고 최종적으로 텍스트 스트링을 사전 인데스트 스트링으로 변환\n",
    "2. 데이터 가공\n",
    "    1. 인풋 입력값을 정하기\n",
    "    2. 인풋 값에 맞추기 위하여 패딩 추가\n",
    "3. 모델 선정(3가지 이상) 및 훈련 \n",
    "    1. 모델 준비\n",
    "    2. 로스와 정확도 시각화\n",
    "5. 한국어 word2vec임베딩을 활용\n",
    "    1. word2vec 임베딩 사용\n",
    "    2. genims을 활용하여 학습된 임베딩과 word2vec 비교 분석\n",
    "    3. 정확도 85% 달성"
   ]
  },
  {
   "cell_type": "code",
   "execution_count": 1,
   "id": "439c6ba9",
   "metadata": {},
   "outputs": [],
   "source": [
    "import warnings\n",
    "warnings.filterwarnings('ignore')\n",
    "\n",
    "# 라이브러리 준비\n",
    "import pandas as pd\n",
    "import konlpy\n",
    "import gensim\n",
    "from konlpy.tag import Mecab\n",
    "import numpy as np\n",
    "from collections import Counter\n",
    "\n",
    "import tensorflow as tf\n",
    "\n",
    "import matplotlib.pyplot as plt"
   ]
  },
  {
   "cell_type": "markdown",
   "id": "f05fa684",
   "metadata": {},
   "source": [
    "## 1. 데이터 준비"
   ]
  },
  {
   "cell_type": "code",
   "execution_count": 2,
   "id": "f2748ff5",
   "metadata": {},
   "outputs": [
    {
     "name": "stdout",
     "output_type": "stream",
     "text": [
      "200000 150000 50000\n"
     ]
    },
    {
     "data": {
      "text/html": [
       "<div>\n",
       "<style scoped>\n",
       "    .dataframe tbody tr th:only-of-type {\n",
       "        vertical-align: middle;\n",
       "    }\n",
       "\n",
       "    .dataframe tbody tr th {\n",
       "        vertical-align: top;\n",
       "    }\n",
       "\n",
       "    .dataframe thead th {\n",
       "        text-align: right;\n",
       "    }\n",
       "</style>\n",
       "<table border=\"1\" class=\"dataframe\">\n",
       "  <thead>\n",
       "    <tr style=\"text-align: right;\">\n",
       "      <th></th>\n",
       "      <th>id</th>\n",
       "      <th>document</th>\n",
       "      <th>label</th>\n",
       "    </tr>\n",
       "  </thead>\n",
       "  <tbody>\n",
       "    <tr>\n",
       "      <th>0</th>\n",
       "      <td>9976970</td>\n",
       "      <td>아 더빙 진짜 짜증나네요 목소리</td>\n",
       "      <td>0</td>\n",
       "    </tr>\n",
       "    <tr>\n",
       "      <th>1</th>\n",
       "      <td>3819312</td>\n",
       "      <td>흠포스터보고 초딩영화줄오버연기조차 가볍지 않구나</td>\n",
       "      <td>1</td>\n",
       "    </tr>\n",
       "    <tr>\n",
       "      <th>2</th>\n",
       "      <td>10265843</td>\n",
       "      <td>너무재밓었다그래서보는것을추천한다</td>\n",
       "      <td>0</td>\n",
       "    </tr>\n",
       "    <tr>\n",
       "      <th>3</th>\n",
       "      <td>9045019</td>\n",
       "      <td>교도소 이야기구먼 솔직히 재미는 없다평점 조정</td>\n",
       "      <td>0</td>\n",
       "    </tr>\n",
       "    <tr>\n",
       "      <th>4</th>\n",
       "      <td>6483659</td>\n",
       "      <td>사이몬페그의 익살스런 연기가 돋보였던 영화스파이더맨에서 늙어보이기만 했던 커스틴 던...</td>\n",
       "      <td>1</td>\n",
       "    </tr>\n",
       "  </tbody>\n",
       "</table>\n",
       "</div>"
      ],
      "text/plain": [
       "         id                                           document  label\n",
       "0   9976970                                  아 더빙 진짜 짜증나네요 목소리      0\n",
       "1   3819312                         흠포스터보고 초딩영화줄오버연기조차 가볍지 않구나      1\n",
       "2  10265843                                  너무재밓었다그래서보는것을추천한다      0\n",
       "3   9045019                          교도소 이야기구먼 솔직히 재미는 없다평점 조정      0\n",
       "4   6483659  사이몬페그의 익살스런 연기가 돋보였던 영화스파이더맨에서 늙어보이기만 했던 커스틴 던...      1"
      ]
     },
     "execution_count": 2,
     "metadata": {},
     "output_type": "execute_result"
    }
   ],
   "source": [
    "train_data = pd.read_table('data/ratings_train.txt')\n",
    "test_data = pd.read_table('data/ratings_test.txt')\n",
    "train_len = len(train_data)\n",
    "total_data = pd.concat([train_data, test_data], axis=0)\n",
    "\n",
    "# 한글과 공백을 제외한 나머지 삭제\n",
    "total_data['document'] = total_data['document'].str.replace(\"[^ㄱ-ㅎㅏ-ㅣ가-힣 ]\",\"\")\n",
    "print(len(total_data), train_len, len(test_data))\n",
    "total_data.head()"
   ]
  },
  {
   "cell_type": "code",
   "execution_count": 3,
   "id": "e73565eb",
   "metadata": {},
   "outputs": [],
   "source": [
    "# konlpy에서 제공하는 형태소 분석기 준비\n",
    "tokenizer = Mecab()\n",
    "# 불용어 준비\n",
    "stopwords = ['의','가','이','은','들','는','좀','잘','걍','과','도','를','으로','자','에','와','한','하다']\n",
    "\n",
    "\n",
    "# 내용이 중복되거나 NaN값이 있는 열 삭제\n",
    "total_data.drop_duplicates(subset=['document'], inplace=True)\n",
    "total_data = total_data.dropna(how = 'any')\n",
    "\n",
    "# 토큰화하여 저장\n",
    "token_word_list = list()\n",
    "for sentence in total_data['document']:\n",
    "    # 토큰화\n",
    "    temp_s = tokenizer.morphs(sentence) \n",
    "    # 불용어 제거한 단어만 데이터로\n",
    "    token_word_list.append([word for word in temp_s if not word in stopwords])\n",
    "\n",
    "y = np.array(list(total_data['label']))"
   ]
  },
  {
   "cell_type": "code",
   "execution_count": 4,
   "id": "a735aed2",
   "metadata": {},
   "outputs": [],
   "source": [
    "def make_word_index_dict(word_list):\n",
    "    \"\"\"\n",
    "    토큰화된 리스트를 인덱스 사전 형태로 변환\n",
    "    :param word_list: 문장을 토큰화 시킨 리스트\n",
    "    :return: X(array), word_to_index(dict)\n",
    "    \"\"\"     \n",
    "    # 토크화된 X를 한 리스트로 합친후 많이 사용한 순서대로 단어별 인덱스 부여\n",
    "    words = np.concatenate(word_list)\n",
    "    words_count = Counter(words)\n",
    "    most_words_count = words_count.most_common(9998)\n",
    "    # 공백을 채워줄 워드 추가\n",
    "    word_to_index = {word:index + 2 for index, (word, _) in enumerate(most_words_count)}    \n",
    "    word_to_index[\"\"] = 0\n",
    "    word_to_index[\"<PAD>\"] = 1\n",
    "    \n",
    "    def wordlist_to_indexlist(wordlist):\n",
    "        return [word_to_index[word] if word in word_to_index else word_to_index[''] for word in wordlist]\n",
    "    \n",
    "    X = list(map(wordlist_to_indexlist, word_list))\n",
    "    \n",
    "    return X, word_to_index"
   ]
  },
  {
   "cell_type": "code",
   "execution_count": 5,
   "id": "1f357dc4",
   "metadata": {},
   "outputs": [
    {
     "name": "stdout",
     "output_type": "stream",
     "text": [
      "191074 191074\n"
     ]
    }
   ],
   "source": [
    "X, word_to_index = make_word_index_dict(token_word_list)\n",
    "print(len(X), len(y))"
   ]
  },
  {
   "cell_type": "markdown",
   "id": "e197053a",
   "metadata": {},
   "source": [
    "## 2. 데이터 가공"
   ]
  },
  {
   "cell_type": "code",
   "execution_count": 6,
   "id": "3b962cb5",
   "metadata": {},
   "outputs": [
    {
     "name": "stdout",
     "output_type": "stream",
     "text": [
      "문장길이 평균 :  13.977678805070287\n",
      "문장길이 최대 :  83\n",
      "문장길이 표준편차 :  11.456453695878299\n",
      "전체 문장의 0.9287187163088646%\n"
     ]
    }
   ],
   "source": [
    "num_tokens = [len(tokens) for tokens in X]\n",
    "num_tokens = np.array(num_tokens)\n",
    "# 문장길이의 평균값, 최대값, 표준편차를 계산해 본다. \n",
    "print('문장길이 평균 : ', np.mean(num_tokens))\n",
    "print('문장길이 최대 : ', np.max(num_tokens))\n",
    "print('문장길이 표준편차 : ', np.std(num_tokens))\n",
    "\n",
    "# 예를들어, 최대 길이를 (평균 + 2*표준편차)로 한다면,  \n",
    "max_tokens = int(np.mean(num_tokens) + 2 * np.std(num_tokens))\n",
    "max_len = int(max_tokens)\n",
    "print(f'전체 문장의 {np.sum(num_tokens < max_tokens) / len(num_tokens)}%')"
   ]
  },
  {
   "cell_type": "code",
   "execution_count": 7,
   "id": "37be8d61",
   "metadata": {},
   "outputs": [],
   "source": [
    "X = tf.keras.preprocessing.sequence.pad_sequences(X, value=word_to_index[\"<PAD>\"],padding='pre', maxlen=max_len)"
   ]
  },
  {
   "cell_type": "code",
   "execution_count": 8,
   "id": "06a432f9",
   "metadata": {},
   "outputs": [
    {
     "name": "stdout",
     "output_type": "stream",
     "text": [
      "120000\n",
      "X : 191074 150000 41074\n",
      "y : 191074 150000 41074\n",
      "X : 191074 120000 30000\n",
      "y : 191074 120000 30000\n"
     ]
    }
   ],
   "source": [
    "X_train, X_test = X[:train_len], X[train_len:]\n",
    "y_train, y_test = y[:train_len], y[train_len:]\n",
    "# 검증 데이터 20% 준비\n",
    "len_80 = int(len(X_train) * 0.8)\n",
    "print(len_80)\n",
    "print('X :', len(X), len(X_train), len(X_test))\n",
    "print('y :', len(y), len(y_train), len(y_test))\n",
    "X_train, X_val = X_train[:len_80], X_train[len_80:]\n",
    "y_train, y_val = y_train[:len_80], y_train[len_80:]\n",
    "print('X :', len(X), len(X_train), len(X_val))\n",
    "print('y :', len(y), len(y_train), len(y_val))"
   ]
  },
  {
   "cell_type": "markdown",
   "id": "2939b0f9",
   "metadata": {},
   "source": [
    "## 3. LSTM 모델1"
   ]
  },
  {
   "cell_type": "code",
   "execution_count": 9,
   "id": "b03a4743",
   "metadata": {},
   "outputs": [
    {
     "name": "stdout",
     "output_type": "stream",
     "text": [
      "Model: \"sequential\"\n",
      "_________________________________________________________________\n",
      "Layer (type)                 Output Shape              Param #   \n",
      "=================================================================\n",
      "embedding (Embedding)        (None, None, 100)         1000000   \n",
      "_________________________________________________________________\n",
      "lstm (LSTM)                  (None, 8)                 3488      \n",
      "_________________________________________________________________\n",
      "dense (Dense)                (None, 8)                 72        \n",
      "_________________________________________________________________\n",
      "dense_1 (Dense)              (None, 1)                 9         \n",
      "=================================================================\n",
      "Total params: 1,003,569\n",
      "Trainable params: 1,003,569\n",
      "Non-trainable params: 0\n",
      "_________________________________________________________________\n"
     ]
    }
   ],
   "source": [
    "# 단어 사전의 크기 및 차원\n",
    "vocab_size = len(word_to_index)\n",
    "word_vector_dim = 100  \n",
    "\n",
    "# RNN모델 LSTM\n",
    "model = tf.keras.Sequential()\n",
    "model.add(tf.keras.layers.Embedding(vocab_size, word_vector_dim, input_shape=(None,)))\n",
    "model.add(tf.keras.layers.LSTM(8))\n",
    "model.add(tf.keras.layers.Dense(8, activation='relu'))\n",
    "model.add(tf.keras.layers.Dense(1, activation='sigmoid'))  # 최종 출력은 긍정/부정을 나타내는 1dim 입니다.\n",
    "\n",
    "model.summary()"
   ]
  },
  {
   "cell_type": "code",
   "execution_count": 10,
   "id": "6ed8cf51",
   "metadata": {},
   "outputs": [
    {
     "name": "stdout",
     "output_type": "stream",
     "text": [
      "Epoch 1/5\n",
      "469/469 [==============================] - 35s 6ms/step - loss: 0.4405 - accuracy: 0.8069 - val_loss: 0.3615 - val_accuracy: 0.8388\n",
      "Epoch 2/5\n",
      "469/469 [==============================] - 3s 5ms/step - loss: 0.3326 - accuracy: 0.8563 - val_loss: 0.3523 - val_accuracy: 0.8422\n",
      "Epoch 3/5\n",
      "469/469 [==============================] - 3s 6ms/step - loss: 0.3066 - accuracy: 0.8673 - val_loss: 0.3542 - val_accuracy: 0.8443\n",
      "Epoch 4/5\n",
      "469/469 [==============================] - 3s 6ms/step - loss: 0.2865 - accuracy: 0.8755 - val_loss: 0.3562 - val_accuracy: 0.8436\n",
      "Epoch 5/5\n",
      "469/469 [==============================] - 3s 5ms/step - loss: 0.2679 - accuracy: 0.8839 - val_loss: 0.3689 - val_accuracy: 0.8409\n"
     ]
    }
   ],
   "source": [
    "# 모델 훈련\n",
    "model.compile(optimizer='adam',\n",
    "              loss='binary_crossentropy',\n",
    "              metrics=['accuracy'])\n",
    "\n",
    "# 과적합으로 에폭수 감소\n",
    "epochs = 5\n",
    "\n",
    "history = model.fit(X_train,\n",
    "                    y_train,\n",
    "                    epochs=epochs,\n",
    "                    batch_size=256,\n",
    "                    validation_data=(X_val, y_val),\n",
    "                    verbose=1)"
   ]
  },
  {
   "cell_type": "code",
   "execution_count": 11,
   "id": "2a43e40c",
   "metadata": {},
   "outputs": [
    {
     "name": "stdout",
     "output_type": "stream",
     "text": [
      "1284/1284 - 3s - loss: 0.3783 - accuracy: 0.8385\n",
      "[0.378268837928772, 0.8385109901428223]\n"
     ]
    }
   ],
   "source": [
    "# 테스트 값 결과 확인\n",
    "results = model.evaluate(X_test, y_test, verbose=2)\n",
    "print(results)"
   ]
  },
  {
   "cell_type": "code",
   "execution_count": 12,
   "id": "a42b7713",
   "metadata": {},
   "outputs": [
    {
     "name": "stdout",
     "output_type": "stream",
     "text": [
      "dict_keys(['loss', 'accuracy', 'val_loss', 'val_accuracy'])\n"
     ]
    },
    {
     "data": {
      "image/png": "[encoded data removed]",
      "text/plain": [
       "<Figure size 432x288 with 1 Axes>"
      ]
     },
     "metadata": {
      "needs_background": "light"
     },
     "output_type": "display_data"
    }
   ],
   "source": [
    "# 결과 확인\n",
    "history_dict = history.history\n",
    "print(history_dict.keys())\n",
    "\n",
    "acc = history_dict['accuracy']\n",
    "val_acc = history_dict['val_accuracy']\n",
    "loss = history_dict['loss']\n",
    "val_loss = history_dict['val_loss']\n",
    "\n",
    "epochs = range(1, len(acc) + 1)\n",
    "\n",
    "plt.plot(epochs, loss, 'bo', label='Training loss')\n",
    "plt.plot(epochs, val_loss, 'b', label='Validation loss')\n",
    "plt.title('Training and validation loss')\n",
    "plt.xlabel('Epochs')\n",
    "plt.ylabel('Loss')\n",
    "plt.legend()\n",
    "\n",
    "plt.show()"
   ]
  },
  {
   "cell_type": "markdown",
   "id": "bc7ca95f",
   "metadata": {},
   "source": [
    "## 3. CNN 모델2"
   ]
  },
  {
   "cell_type": "code",
   "execution_count": 13,
   "id": "9548185b",
   "metadata": {},
   "outputs": [
    {
     "name": "stdout",
     "output_type": "stream",
     "text": [
      "Model: \"sequential_1\"\n",
      "_________________________________________________________________\n",
      "Layer (type)                 Output Shape              Param #   \n",
      "=================================================================\n",
      "embedding_1 (Embedding)      (None, None, 100)         1000000   \n",
      "_________________________________________________________________\n",
      "global_max_pooling1d (Global (None, 100)               0         \n",
      "_________________________________________________________________\n",
      "dense_2 (Dense)              (None, 8)                 808       \n",
      "_________________________________________________________________\n",
      "dense_3 (Dense)              (None, 1)                 9         \n",
      "=================================================================\n",
      "Total params: 1,000,817\n",
      "Trainable params: 1,000,817\n",
      "Non-trainable params: 0\n",
      "_________________________________________________________________\n"
     ]
    }
   ],
   "source": [
    "# 단어 사전의 크기 및 차원\n",
    "vocab_size = len(word_to_index)\n",
    "word_vector_dim = 100  \n",
    "\n",
    "# CNN모델\n",
    "model = tf.keras.Sequential()\n",
    "model.add(tf.keras.layers.Embedding(vocab_size, word_vector_dim, input_shape=(None,)))\n",
    "model.add(tf.keras.layers.GlobalMaxPooling1D())\n",
    "model.add(tf.keras.layers.Dense(8, activation='relu'))\n",
    "model.add(tf.keras.layers.Dense(1, activation='sigmoid'))\n",
    "\n",
    "model.summary()"
   ]
  },
  {
   "cell_type": "code",
   "execution_count": 14,
   "id": "b0a38247",
   "metadata": {},
   "outputs": [
    {
     "name": "stdout",
     "output_type": "stream",
     "text": [
      "Epoch 1/5\n",
      "469/469 [==============================] - 2s 4ms/step - loss: 0.4735 - accuracy: 0.7785 - val_loss: 0.3638 - val_accuracy: 0.8390\n",
      "Epoch 2/5\n",
      "469/469 [==============================] - 2s 4ms/step - loss: 0.3240 - accuracy: 0.8616 - val_loss: 0.3528 - val_accuracy: 0.8461\n",
      "Epoch 3/5\n",
      "469/469 [==============================] - 2s 4ms/step - loss: 0.2784 - accuracy: 0.8846 - val_loss: 0.3542 - val_accuracy: 0.8483\n",
      "Epoch 4/5\n",
      "469/469 [==============================] - 2s 4ms/step - loss: 0.2409 - accuracy: 0.9035 - val_loss: 0.3668 - val_accuracy: 0.8467\n",
      "Epoch 5/5\n",
      "469/469 [==============================] - 2s 4ms/step - loss: 0.2038 - accuracy: 0.9221 - val_loss: 0.3901 - val_accuracy: 0.8440\n"
     ]
    }
   ],
   "source": [
    "# 모델 훈련\n",
    "model.compile(optimizer='adam',\n",
    "              loss='binary_crossentropy',\n",
    "              metrics=['accuracy'])\n",
    "\n",
    "# 과적합으로 에폭수 감소\n",
    "epochs = 5 \n",
    "\n",
    "history = model.fit(X_train,\n",
    "                    y_train,\n",
    "                    epochs=epochs,\n",
    "                    batch_size=256,\n",
    "                    validation_data=(X_val, y_val),\n",
    "                    verbose=1)"
   ]
  },
  {
   "cell_type": "code",
   "execution_count": 15,
   "id": "1021a531",
   "metadata": {},
   "outputs": [
    {
     "name": "stdout",
     "output_type": "stream",
     "text": [
      "1284/1284 - 2s - loss: 0.4049 - accuracy: 0.8389\n",
      "[0.40485355257987976, 0.838851809501648]\n"
     ]
    }
   ],
   "source": [
    "# 테스트 값 결과 확인\n",
    "results = model.evaluate(X_test, y_test, verbose=2)\n",
    "print(results)"
   ]
  },
  {
   "cell_type": "code",
   "execution_count": 16,
   "id": "58f3b2d8",
   "metadata": {},
   "outputs": [
    {
     "name": "stdout",
     "output_type": "stream",
     "text": [
      "dict_keys(['loss', 'accuracy', 'val_loss', 'val_accuracy'])\n"
     ]
    },
    {
     "data": {
      "image/png": "[encoded data removed]",
      "text/plain": [
       "<Figure size 432x288 with 1 Axes>"
      ]
     },
     "metadata": {
      "needs_background": "light"
     },
     "output_type": "display_data"
    }
   ],
   "source": [
    "# 결과 확인\n",
    "history_dict = history.history\n",
    "print(history_dict.keys())\n",
    "\n",
    "acc = history_dict['accuracy']\n",
    "val_acc = history_dict['val_accuracy']\n",
    "loss = history_dict['loss']\n",
    "val_loss = history_dict['val_loss']\n",
    "\n",
    "epochs = range(1, len(acc) + 1)\n",
    "\n",
    "plt.plot(epochs, loss, 'bo', label='Training loss')\n",
    "plt.plot(epochs, val_loss, 'b', label='Validation loss')\n",
    "plt.title('Training and validation loss')\n",
    "plt.xlabel('Epochs')\n",
    "plt.ylabel('Loss')\n",
    "plt.legend()\n",
    "\n",
    "plt.show()"
   ]
  },
  {
   "cell_type": "markdown",
   "id": "a85ba8b1",
   "metadata": {},
   "source": [
    "## 3. GRU 모델3"
   ]
  },
  {
   "cell_type": "code",
   "execution_count": 17,
   "id": "b9877b24",
   "metadata": {},
   "outputs": [],
   "source": [
    "from transformers import *"
   ]
  },
  {
   "cell_type": "code",
   "execution_count": 18,
   "id": "dcac984e",
   "metadata": {},
   "outputs": [
    {
     "name": "stdout",
     "output_type": "stream",
     "text": [
      "Model: \"sequential_2\"\n",
      "_________________________________________________________________\n",
      "Layer (type)                 Output Shape              Param #   \n",
      "=================================================================\n",
      "embedding_2 (Embedding)      (None, None, 100)         1000000   \n",
      "_________________________________________________________________\n",
      "gru (GRU)                    (None, 12)                4104      \n",
      "_________________________________________________________________\n",
      "dense_4 (Dense)              (None, 1)                 13        \n",
      "=================================================================\n",
      "Total params: 1,004,117\n",
      "Trainable params: 1,004,117\n",
      "Non-trainable params: 0\n",
      "_________________________________________________________________\n"
     ]
    }
   ],
   "source": [
    "# 단어 사전의 크기 및 차원\n",
    "vocab_size = len(word_to_index)\n",
    "word_vector_dim = 100  \n",
    "\n",
    "model = tf.keras.Sequential()\n",
    "model.add(tf.keras.layers.Embedding(vocab_size, word_vector_dim, input_shape=(None,)))\n",
    "model.add(tf.keras.layers.GRU(12))\n",
    "model.add(tf.keras.layers.Dense(1, activation='sigmoid'))\n",
    "\n",
    "model.summary()"
   ]
  },
  {
   "cell_type": "code",
   "execution_count": 19,
   "id": "a1e59ef7",
   "metadata": {},
   "outputs": [
    {
     "name": "stdout",
     "output_type": "stream",
     "text": [
      "Epoch 1/5\n",
      "469/469 [==============================] - 4s 6ms/step - loss: 0.4216 - accuracy: 0.8091 - val_loss: 0.3600 - val_accuracy: 0.8400\n",
      "Epoch 2/5\n",
      "469/469 [==============================] - 3s 5ms/step - loss: 0.3403 - accuracy: 0.8526 - val_loss: 0.3461 - val_accuracy: 0.8486\n",
      "Epoch 3/5\n",
      "469/469 [==============================] - 3s 6ms/step - loss: 0.3201 - accuracy: 0.8624 - val_loss: 0.3361 - val_accuracy: 0.8524\n",
      "Epoch 4/5\n",
      "469/469 [==============================] - 3s 6ms/step - loss: 0.3022 - accuracy: 0.8711 - val_loss: 0.3262 - val_accuracy: 0.8578\n",
      "Epoch 5/5\n",
      "469/469 [==============================] - 3s 6ms/step - loss: 0.2862 - accuracy: 0.8799 - val_loss: 0.3215 - val_accuracy: 0.8608\n"
     ]
    }
   ],
   "source": [
    "model.compile(optimizer='rmsprop', \n",
    "              loss='binary_crossentropy', \n",
    "              metrics=['accuracy'])\n",
    "\n",
    "epochs = 5 \n",
    "\n",
    "history = model.fit(X_train,\n",
    "                    y_train,\n",
    "                    epochs=epochs,\n",
    "                    batch_size=256,\n",
    "                    validation_data=(X_val, y_val),\n",
    "                    verbose=1)"
   ]
  },
  {
   "cell_type": "code",
   "execution_count": 20,
   "id": "b5bb70f8",
   "metadata": {},
   "outputs": [
    {
     "name": "stdout",
     "output_type": "stream",
     "text": [
      "1284/1284 - 2s - loss: 0.3312 - accuracy: 0.8584\n",
      "[0.33121728897094727, 0.8584262728691101]\n"
     ]
    }
   ],
   "source": [
    "# 테스트 값 결과 확인\n",
    "results = model.evaluate(X_test, y_test, verbose=2)\n",
    "print(results)"
   ]
  },
  {
   "cell_type": "code",
   "execution_count": 21,
   "id": "68844a75",
   "metadata": {},
   "outputs": [
    {
     "name": "stdout",
     "output_type": "stream",
     "text": [
      "dict_keys(['loss', 'accuracy', 'val_loss', 'val_accuracy'])\n"
     ]
    },
    {
     "data": {
      "image/png": "[encoded data removed]",
      "text/plain": [
       "<Figure size 432x288 with 1 Axes>"
      ]
     },
     "metadata": {
      "needs_background": "light"
     },
     "output_type": "display_data"
    }
   ],
   "source": [
    "# 결과 확인\n",
    "history_dict = history.history\n",
    "print(history_dict.keys())\n",
    "\n",
    "acc = history_dict['accuracy']\n",
    "val_acc = history_dict['val_accuracy']\n",
    "loss = history_dict['loss']\n",
    "val_loss = history_dict['val_loss']\n",
    "\n",
    "epochs = range(1, len(acc) + 1)\n",
    "\n",
    "plt.plot(epochs, loss, 'bo', label='Training loss')\n",
    "plt.plot(epochs, val_loss, 'b', label='Validation loss')\n",
    "plt.title('Training and validation loss')\n",
    "plt.xlabel('Epochs')\n",
    "plt.ylabel('Loss')\n",
    "plt.legend()\n",
    "\n",
    "plt.show()"
   ]
  },
  {
   "cell_type": "markdown",
   "id": "56ef33d4",
   "metadata": {},
   "source": [
    "## 4. 한국어 word2vec임베딩을 활용"
   ]
  },
  {
   "cell_type": "code",
   "execution_count": 23,
   "id": "3f67307f",
   "metadata": {},
   "outputs": [
    {
     "data": {
      "text/plain": [
       "(18119, 100)"
      ]
     },
     "execution_count": 23,
     "metadata": {},
     "output_type": "execute_result"
    }
   ],
   "source": [
    "# word2ver를 이용하여 학습\n",
    "from gensim.models import Word2Vec\n",
    "from tensorflow.keras.initializers import Constant\n",
    "\n",
    "# sg = 0은 CBOW, 1은 Skip-gram.\n",
    "word2vec = Word2Vec(token_word_list, vector_size=100, window=2, min_count=5, workers=4, sg=1)\n",
    "word2vec.wv.vectors.shape"
   ]
  },
  {
   "cell_type": "code",
   "execution_count": 26,
   "id": "cdf23581",
   "metadata": {},
   "outputs": [],
   "source": [
    "# 임베딩 메트릭스 준비\n",
    "embedding_matrix = np.random.rand(vocab_size, word_vector_dim)\n",
    "\n",
    "index_to_word = {index:word for word, index in word_to_index.items()}\n",
    "\n",
    "for i in range(4,vocab_size):\n",
    "    if index_to_word[i] in word2vec.wv:\n",
    "        embedding_matrix[i] = word2vec.wv[index_to_word[i]]"
   ]
  },
  {
   "cell_type": "code",
   "execution_count": 40,
   "id": "c47e3869",
   "metadata": {},
   "outputs": [
    {
     "name": "stdout",
     "output_type": "stream",
     "text": [
      "Model: \"sequential_5\"\n",
      "_________________________________________________________________\n",
      "Layer (type)                 Output Shape              Param #   \n",
      "=================================================================\n",
      "embedding_5 (Embedding)      (None, None, 100)         1000000   \n",
      "_________________________________________________________________\n",
      "gru_3 (GRU)                  (None, 12)                4104      \n",
      "_________________________________________________________________\n",
      "dense_7 (Dense)              (None, 1)                 13        \n",
      "=================================================================\n",
      "Total params: 1,004,117\n",
      "Trainable params: 1,004,117\n",
      "Non-trainable params: 0\n",
      "_________________________________________________________________\n"
     ]
    }
   ],
   "source": [
    "# 발리데이션 로스값이 잘 떨어졌던 GRU모델 준비\n",
    "model = tf.keras.Sequential()\n",
    "model.add(tf.keras.layers.Embedding(vocab_size, word_vector_dim,\n",
    "                                    embeddings_initializer=Constant(embedding_matrix),\n",
    "                                    input_shape=(None,),\n",
    "                                    trainable=True))\n",
    "model.add(tf.keras.layers.GRU(12))\n",
    "model.add(tf.keras.layers.Dense(1, activation='sigmoid'))\n",
    "\n",
    "model.summary()"
   ]
  },
  {
   "cell_type": "code",
   "execution_count": 41,
   "id": "afc2201e",
   "metadata": {},
   "outputs": [
    {
     "name": "stdout",
     "output_type": "stream",
     "text": [
      "Epoch 1/15\n",
      "469/469 [==============================] - 4s 6ms/step - loss: 0.4197 - accuracy: 0.8075 - val_loss: 0.3608 - val_accuracy: 0.8405\n",
      "Epoch 2/15\n",
      "469/469 [==============================] - 3s 5ms/step - loss: 0.3406 - accuracy: 0.8511 - val_loss: 0.3399 - val_accuracy: 0.8516\n",
      "Epoch 3/15\n",
      "469/469 [==============================] - 3s 5ms/step - loss: 0.3172 - accuracy: 0.8635 - val_loss: 0.3310 - val_accuracy: 0.8560\n",
      "Epoch 4/15\n",
      "469/469 [==============================] - 3s 6ms/step - loss: 0.3009 - accuracy: 0.8716 - val_loss: 0.3240 - val_accuracy: 0.8589\n",
      "Epoch 5/15\n",
      "469/469 [==============================] - 3s 5ms/step - loss: 0.2874 - accuracy: 0.8786 - val_loss: 0.3317 - val_accuracy: 0.8565\n",
      "Epoch 6/15\n",
      "469/469 [==============================] - 3s 5ms/step - loss: 0.2759 - accuracy: 0.8840 - val_loss: 0.3164 - val_accuracy: 0.8625\n",
      "Epoch 7/15\n",
      "469/469 [==============================] - 3s 6ms/step - loss: 0.2651 - accuracy: 0.8894 - val_loss: 0.3248 - val_accuracy: 0.8596\n",
      "Epoch 8/15\n",
      "469/469 [==============================] - 3s 6ms/step - loss: 0.2556 - accuracy: 0.8941 - val_loss: 0.3193 - val_accuracy: 0.8634\n",
      "Epoch 9/15\n",
      "469/469 [==============================] - 3s 6ms/step - loss: 0.2469 - accuracy: 0.8991 - val_loss: 0.3194 - val_accuracy: 0.8653\n",
      "Epoch 10/15\n",
      "469/469 [==============================] - 3s 6ms/step - loss: 0.2384 - accuracy: 0.9028 - val_loss: 0.3203 - val_accuracy: 0.8657\n",
      "Epoch 11/15\n",
      "469/469 [==============================] - 3s 5ms/step - loss: 0.2300 - accuracy: 0.9067 - val_loss: 0.3211 - val_accuracy: 0.8650\n",
      "Epoch 12/15\n",
      "469/469 [==============================] - 3s 6ms/step - loss: 0.2225 - accuracy: 0.9100 - val_loss: 0.3256 - val_accuracy: 0.8641\n",
      "Epoch 13/15\n",
      "469/469 [==============================] - 3s 5ms/step - loss: 0.2149 - accuracy: 0.9140 - val_loss: 0.3333 - val_accuracy: 0.8617\n",
      "Epoch 14/15\n",
      "469/469 [==============================] - 3s 5ms/step - loss: 0.2075 - accuracy: 0.9172 - val_loss: 0.3393 - val_accuracy: 0.8600\n",
      "Epoch 15/15\n",
      "469/469 [==============================] - 3s 6ms/step - loss: 0.1999 - accuracy: 0.9210 - val_loss: 0.3428 - val_accuracy: 0.8609\n"
     ]
    }
   ],
   "source": [
    "# 모델 훈련\n",
    "model.compile(optimizer='rmsprop', \n",
    "              loss='binary_crossentropy', \n",
    "              metrics=['accuracy'])\n",
    "\n",
    "epochs = 15 \n",
    "\n",
    "history = model.fit(X_train,\n",
    "                    y_train,\n",
    "                    epochs=epochs,\n",
    "                    batch_size=256,\n",
    "                    validation_data=(X_val, y_val),\n",
    "                    verbose=1)"
   ]
  },
  {
   "cell_type": "code",
   "execution_count": 42,
   "id": "17f4b990",
   "metadata": {},
   "outputs": [
    {
     "name": "stdout",
     "output_type": "stream",
     "text": [
      "1284/1284 - 2s - loss: 0.3509 - accuracy: 0.8567\n",
      "[0.35085877776145935, 0.8566733002662659]\n"
     ]
    }
   ],
   "source": [
    "# 테스트 값 결과 확인\n",
    "results = model.evaluate(X_test, y_test, verbose=2)\n",
    "print(results)"
   ]
  },
  {
   "cell_type": "code",
   "execution_count": 43,
   "id": "e4e8580f",
   "metadata": {},
   "outputs": [
    {
     "name": "stdout",
     "output_type": "stream",
     "text": [
      "dict_keys(['loss', 'accuracy', 'val_loss', 'val_accuracy'])\n"
     ]
    },
    {
     "data": {
      "image/png": "[encoded data removed]",
      "text/plain": [
       "<Figure size 432x288 with 1 Axes>"
      ]
     },
     "metadata": {
      "needs_background": "light"
     },
     "output_type": "display_data"
    }
   ],
   "source": [
    "# 결과 확인\n",
    "history_dict = history.history\n",
    "print(history_dict.keys())\n",
    "\n",
    "acc = history_dict['accuracy']\n",
    "val_acc = history_dict['val_accuracy']\n",
    "loss = history_dict['loss']\n",
    "val_loss = history_dict['val_loss']\n",
    "\n",
    "epochs = range(1, len(acc) + 1)\n",
    "\n",
    "plt.plot(epochs, loss, 'bo', label='Training loss')\n",
    "plt.plot(epochs, val_loss, 'b', label='Validation loss')\n",
    "plt.title('Training and validation loss')\n",
    "plt.xlabel('Epochs')\n",
    "plt.ylabel('Loss')\n",
    "plt.legend()\n",
    "\n",
    "plt.show()"
   ]
  },
  {
   "cell_type": "markdown",
   "id": "12f82ac7",
   "metadata": {},
   "source": [
    "### genims을 활용하여 학습된 임베딩과 word2vec 비교 분석"
   ]
  },
  {
   "cell_type": "code",
   "execution_count": 45,
   "id": "2228ff3c",
   "metadata": {},
   "outputs": [
    {
     "data": {
      "text/plain": [
       "[('정말로', 0.8532505035400391),\n",
       " ('진짜', 0.852863609790802),\n",
       " ('ㅠㅜ', 0.7582256197929382),\n",
       " ('진심', 0.7316354513168335),\n",
       " ('참', 0.7222082018852234),\n",
       " ('너무너무', 0.7178539037704468),\n",
       " ('ㅠㅠ너무', 0.7130423188209534),\n",
       " ('증말', 0.7126389145851135),\n",
       " ('진짜로', 0.7110286951065063),\n",
       " ('무튼', 0.7052884101867676)]"
      ]
     },
     "execution_count": 45,
     "metadata": {},
     "output_type": "execute_result"
    }
   ],
   "source": [
    "word2vec.wv.most_similar(\"정말\")"
   ]
  },
  {
   "cell_type": "markdown",
   "id": "d9c55f8f",
   "metadata": {},
   "source": [
    "기존의 임베딩은 단순히 많이 사용된 단어순으로 인덱스 값이 매겨졌다면 word2ver는 위와 같이 확실하게 비슷한 언어들이 백터화 된것을 알 수 있다.   \n",
    "따라서 독단적으로 학습이 완료된 말뭉치보다 긍부정에 관련된 말뭉치로 학습하면 더 좋은 결과가 있을 것으로 예상되었으나 생각보다 좋지 않았다.\n",
    "결론적으로 정확도는 85%는 달성하였으나 모든 모델들이 엇비슷하였다"
   ]
  }
 ],
 "metadata": {
  "kernelspec": {
   "display_name": "Python 3 (ipykernel)",
   "language": "python",
   "name": "python3"
  },
  "language_info": {
   "codemirror_mode": {
    "name": "ipython",
    "version": 3
   },
   "file_extension": ".py",
   "mimetype": "text/x-python",
   "name": "python",
   "nbconvert_exporter": "python",
   "pygments_lexer": "ipython3",
   "version": "3.9.7"
  }
 },
 "nbformat": 4,
 "nbformat_minor": 5
}
